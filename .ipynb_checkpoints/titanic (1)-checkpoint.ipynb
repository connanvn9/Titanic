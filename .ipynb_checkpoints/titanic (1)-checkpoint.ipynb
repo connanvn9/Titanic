{
 "cells": [
  {
   "cell_type": "code",
   "execution_count": 1,
   "metadata": {},
   "outputs": [],
   "source": [
    "import pandas as pd\n",
    "import glob\n",
    "import numpy as np\n",
    "import matplotlib.pyplot as plt\n",
    "import re\n",
    "import seaborn as sns"
   ]
  },
  {
   "cell_type": "code",
   "execution_count": 2,
   "metadata": {},
   "outputs": [],
   "source": [
    "%matplotlib inline"
   ]
  },
  {
   "cell_type": "code",
   "execution_count": 3,
   "metadata": {},
   "outputs": [
    {
     "data": {
      "text/plain": [
       "['data\\\\gender_submission.csv', 'data\\\\test.csv', 'data\\\\train.csv']"
      ]
     },
     "execution_count": 3,
     "metadata": {},
     "output_type": "execute_result"
    }
   ],
   "source": [
    "files = glob.glob(r'data\\*.csv')\n",
    "files"
   ]
  },
  {
   "cell_type": "code",
   "execution_count": 4,
   "metadata": {},
   "outputs": [],
   "source": [
    "df = pd.read_csv(files[2])"
   ]
  },
  {
   "cell_type": "code",
   "execution_count": 5,
   "metadata": {},
   "outputs": [
    {
     "data": {
      "text/html": [
       "<div>\n",
       "<style scoped>\n",
       "    .dataframe tbody tr th:only-of-type {\n",
       "        vertical-align: middle;\n",
       "    }\n",
       "\n",
       "    .dataframe tbody tr th {\n",
       "        vertical-align: top;\n",
       "    }\n",
       "\n",
       "    .dataframe thead th {\n",
       "        text-align: right;\n",
       "    }\n",
       "</style>\n",
       "<table border=\"1\" class=\"dataframe\">\n",
       "  <thead>\n",
       "    <tr style=\"text-align: right;\">\n",
       "      <th></th>\n",
       "      <th>PassengerId</th>\n",
       "      <th>Survived</th>\n",
       "      <th>Pclass</th>\n",
       "      <th>Name</th>\n",
       "      <th>Sex</th>\n",
       "      <th>Age</th>\n",
       "      <th>SibSp</th>\n",
       "      <th>Parch</th>\n",
       "      <th>Ticket</th>\n",
       "      <th>Fare</th>\n",
       "      <th>Cabin</th>\n",
       "      <th>Embarked</th>\n",
       "    </tr>\n",
       "  </thead>\n",
       "  <tbody>\n",
       "    <tr>\n",
       "      <th>0</th>\n",
       "      <td>1</td>\n",
       "      <td>0</td>\n",
       "      <td>3</td>\n",
       "      <td>Braund, Mr. Owen Harris</td>\n",
       "      <td>male</td>\n",
       "      <td>22.0</td>\n",
       "      <td>1</td>\n",
       "      <td>0</td>\n",
       "      <td>A/5 21171</td>\n",
       "      <td>7.2500</td>\n",
       "      <td>NaN</td>\n",
       "      <td>S</td>\n",
       "    </tr>\n",
       "    <tr>\n",
       "      <th>1</th>\n",
       "      <td>2</td>\n",
       "      <td>1</td>\n",
       "      <td>1</td>\n",
       "      <td>Cumings, Mrs. John Bradley (Florence Briggs Th...</td>\n",
       "      <td>female</td>\n",
       "      <td>38.0</td>\n",
       "      <td>1</td>\n",
       "      <td>0</td>\n",
       "      <td>PC 17599</td>\n",
       "      <td>71.2833</td>\n",
       "      <td>C85</td>\n",
       "      <td>C</td>\n",
       "    </tr>\n",
       "    <tr>\n",
       "      <th>2</th>\n",
       "      <td>3</td>\n",
       "      <td>1</td>\n",
       "      <td>3</td>\n",
       "      <td>Heikkinen, Miss. Laina</td>\n",
       "      <td>female</td>\n",
       "      <td>26.0</td>\n",
       "      <td>0</td>\n",
       "      <td>0</td>\n",
       "      <td>STON/O2. 3101282</td>\n",
       "      <td>7.9250</td>\n",
       "      <td>NaN</td>\n",
       "      <td>S</td>\n",
       "    </tr>\n",
       "    <tr>\n",
       "      <th>3</th>\n",
       "      <td>4</td>\n",
       "      <td>1</td>\n",
       "      <td>1</td>\n",
       "      <td>Futrelle, Mrs. Jacques Heath (Lily May Peel)</td>\n",
       "      <td>female</td>\n",
       "      <td>35.0</td>\n",
       "      <td>1</td>\n",
       "      <td>0</td>\n",
       "      <td>113803</td>\n",
       "      <td>53.1000</td>\n",
       "      <td>C123</td>\n",
       "      <td>S</td>\n",
       "    </tr>\n",
       "    <tr>\n",
       "      <th>4</th>\n",
       "      <td>5</td>\n",
       "      <td>0</td>\n",
       "      <td>3</td>\n",
       "      <td>Allen, Mr. William Henry</td>\n",
       "      <td>male</td>\n",
       "      <td>35.0</td>\n",
       "      <td>0</td>\n",
       "      <td>0</td>\n",
       "      <td>373450</td>\n",
       "      <td>8.0500</td>\n",
       "      <td>NaN</td>\n",
       "      <td>S</td>\n",
       "    </tr>\n",
       "  </tbody>\n",
       "</table>\n",
       "</div>"
      ],
      "text/plain": [
       "   PassengerId  Survived  Pclass  \\\n",
       "0            1         0       3   \n",
       "1            2         1       1   \n",
       "2            3         1       3   \n",
       "3            4         1       1   \n",
       "4            5         0       3   \n",
       "\n",
       "                                                Name     Sex   Age  SibSp  \\\n",
       "0                            Braund, Mr. Owen Harris    male  22.0      1   \n",
       "1  Cumings, Mrs. John Bradley (Florence Briggs Th...  female  38.0      1   \n",
       "2                             Heikkinen, Miss. Laina  female  26.0      0   \n",
       "3       Futrelle, Mrs. Jacques Heath (Lily May Peel)  female  35.0      1   \n",
       "4                           Allen, Mr. William Henry    male  35.0      0   \n",
       "\n",
       "   Parch            Ticket     Fare Cabin Embarked  \n",
       "0      0         A/5 21171   7.2500   NaN        S  \n",
       "1      0          PC 17599  71.2833   C85        C  \n",
       "2      0  STON/O2. 3101282   7.9250   NaN        S  \n",
       "3      0            113803  53.1000  C123        S  \n",
       "4      0            373450   8.0500   NaN        S  "
      ]
     },
     "execution_count": 5,
     "metadata": {},
     "output_type": "execute_result"
    }
   ],
   "source": [
    "df.head()"
   ]
  },
  {
   "cell_type": "code",
   "execution_count": 6,
   "metadata": {},
   "outputs": [
    {
     "name": "stdout",
     "output_type": "stream",
     "text": [
      "<class 'pandas.core.frame.DataFrame'>\n",
      "RangeIndex: 891 entries, 0 to 890\n",
      "Data columns (total 12 columns):\n",
      " #   Column       Non-Null Count  Dtype  \n",
      "---  ------       --------------  -----  \n",
      " 0   PassengerId  891 non-null    int64  \n",
      " 1   Survived     891 non-null    int64  \n",
      " 2   Pclass       891 non-null    int64  \n",
      " 3   Name         891 non-null    object \n",
      " 4   Sex          891 non-null    object \n",
      " 5   Age          714 non-null    float64\n",
      " 6   SibSp        891 non-null    int64  \n",
      " 7   Parch        891 non-null    int64  \n",
      " 8   Ticket       891 non-null    object \n",
      " 9   Fare         891 non-null    float64\n",
      " 10  Cabin        204 non-null    object \n",
      " 11  Embarked     889 non-null    object \n",
      "dtypes: float64(2), int64(5), object(5)\n",
      "memory usage: 83.7+ KB\n"
     ]
    }
   ],
   "source": [
    "df.info()"
   ]
  },
  {
   "cell_type": "code",
   "execution_count": 7,
   "metadata": {},
   "outputs": [
    {
     "data": {
      "text/plain": [
       "PassengerId      0\n",
       "Survived         0\n",
       "Pclass           0\n",
       "Name             0\n",
       "Sex              0\n",
       "Age            177\n",
       "SibSp            0\n",
       "Parch            0\n",
       "Ticket           0\n",
       "Fare             0\n",
       "Cabin          687\n",
       "Embarked         2\n",
       "dtype: int64"
      ]
     },
     "execution_count": 7,
     "metadata": {},
     "output_type": "execute_result"
    }
   ],
   "source": [
    "df.isnull().sum()"
   ]
  },
  {
   "cell_type": "code",
   "execution_count": 8,
   "metadata": {},
   "outputs": [
    {
     "data": {
      "text/plain": [
       "['passengerid',\n",
       " 'survived',\n",
       " 'pclass',\n",
       " 'name',\n",
       " 'sex',\n",
       " 'age',\n",
       " 'sibsp',\n",
       " 'parch',\n",
       " 'ticket',\n",
       " 'fare',\n",
       " 'cabin',\n",
       " 'embarked']"
      ]
     },
     "execution_count": 8,
     "metadata": {},
     "output_type": "execute_result"
    }
   ],
   "source": [
    "lower_col = [i.lower() for i in df.columns]\n",
    "lower_col"
   ]
  },
  {
   "cell_type": "code",
   "execution_count": 9,
   "metadata": {},
   "outputs": [],
   "source": [
    "df.columns = lower_col"
   ]
  },
  {
   "cell_type": "code",
   "execution_count": 10,
   "metadata": {},
   "outputs": [],
   "source": [
    "df[['female','male']] = pd.get_dummies(df.sex)"
   ]
  },
  {
   "cell_type": "code",
   "execution_count": 11,
   "metadata": {},
   "outputs": [],
   "source": [
    "df.drop(['sex','cabin'], axis = 1, inplace = True)"
   ]
  },
  {
   "cell_type": "code",
   "execution_count": 12,
   "metadata": {},
   "outputs": [
    {
     "data": {
      "text/plain": [
       "(681,)"
      ]
     },
     "execution_count": 12,
     "metadata": {},
     "output_type": "execute_result"
    }
   ],
   "source": [
    "df.ticket.unique().shape"
   ]
  },
  {
   "cell_type": "code",
   "execution_count": 13,
   "metadata": {},
   "outputs": [],
   "source": [
    "df[['first_class','second_class','third_class']] = pd.get_dummies(df.pclass)\n",
    "df.drop('pclass', axis =1, inplace = True)"
   ]
  },
  {
   "cell_type": "code",
   "execution_count": 14,
   "metadata": {},
   "outputs": [
    {
     "data": {
      "text/plain": [
       "0    608\n",
       "1    209\n",
       "2     28\n",
       "4     18\n",
       "3     16\n",
       "8      7\n",
       "5      5\n",
       "Name: sibsp, dtype: int64"
      ]
     },
     "execution_count": 14,
     "metadata": {},
     "output_type": "execute_result"
    }
   ],
   "source": [
    "df.sibsp.value_counts()"
   ]
  },
  {
   "cell_type": "code",
   "execution_count": 15,
   "metadata": {},
   "outputs": [
    {
     "data": {
      "text/plain": [
       "0    678\n",
       "1    118\n",
       "2     80\n",
       "5      5\n",
       "3      5\n",
       "4      4\n",
       "6      1\n",
       "Name: parch, dtype: int64"
      ]
     },
     "execution_count": 15,
     "metadata": {},
     "output_type": "execute_result"
    }
   ],
   "source": [
    "df.parch.value_counts()"
   ]
  },
  {
   "cell_type": "code",
   "execution_count": 16,
   "metadata": {},
   "outputs": [
    {
     "data": {
      "text/plain": [
       "'Braund, Mr. Owen Harris'"
      ]
     },
     "execution_count": 16,
     "metadata": {},
     "output_type": "execute_result"
    }
   ],
   "source": [
    "a = df.name[0]\n",
    "a"
   ]
  },
  {
   "cell_type": "code",
   "execution_count": 17,
   "metadata": {},
   "outputs": [],
   "source": [
    "p = re.compile(r'([A-Za-z]+)\\.')"
   ]
  },
  {
   "cell_type": "code",
   "execution_count": 18,
   "metadata": {},
   "outputs": [
    {
     "name": "stdout",
     "output_type": "stream",
     "text": [
      "None\n"
     ]
    }
   ],
   "source": [
    "print(p.match(a))"
   ]
  },
  {
   "cell_type": "code",
   "execution_count": 19,
   "metadata": {},
   "outputs": [
    {
     "name": "stdout",
     "output_type": "stream",
     "text": [
      "passengerid : 0\n",
      "survived : 889\n",
      "name : 0\n",
      "age : 802\n",
      "sibsp : 884\n",
      "parch : 884\n",
      "ticket : 210\n",
      "fare : 643\n",
      "embarked : 887\n",
      "female : 889\n",
      "male : 889\n",
      "first_class : 889\n",
      "second_class : 889\n",
      "third_class : 889\n"
     ]
    }
   ],
   "source": [
    "for col in df.columns:\n",
    "    print(f'{col} : {df.duplicated(subset= col).sum()}')\n"
   ]
  },
  {
   "cell_type": "code",
   "execution_count": 20,
   "metadata": {},
   "outputs": [],
   "source": [
    "df['Title'] = df.name.str.extract(' ([A-Za-z]+)\\.', expand=False)"
   ]
  },
  {
   "cell_type": "code",
   "execution_count": 21,
   "metadata": {},
   "outputs": [
    {
     "data": {
      "text/html": [
       "<div>\n",
       "<style scoped>\n",
       "    .dataframe tbody tr th:only-of-type {\n",
       "        vertical-align: middle;\n",
       "    }\n",
       "\n",
       "    .dataframe tbody tr th {\n",
       "        vertical-align: top;\n",
       "    }\n",
       "\n",
       "    .dataframe thead th {\n",
       "        text-align: right;\n",
       "    }\n",
       "</style>\n",
       "<table border=\"1\" class=\"dataframe\">\n",
       "  <thead>\n",
       "    <tr style=\"text-align: right;\">\n",
       "      <th>female</th>\n",
       "      <th>Title</th>\n",
       "      <th>0</th>\n",
       "      <th>1</th>\n",
       "    </tr>\n",
       "  </thead>\n",
       "  <tbody>\n",
       "    <tr>\n",
       "      <th>2</th>\n",
       "      <td>Countess</td>\n",
       "      <td>0</td>\n",
       "      <td>1</td>\n",
       "    </tr>\n",
       "    <tr>\n",
       "      <th>6</th>\n",
       "      <td>Lady</td>\n",
       "      <td>0</td>\n",
       "      <td>1</td>\n",
       "    </tr>\n",
       "    <tr>\n",
       "      <th>11</th>\n",
       "      <td>Mme</td>\n",
       "      <td>0</td>\n",
       "      <td>1</td>\n",
       "    </tr>\n",
       "    <tr>\n",
       "      <th>14</th>\n",
       "      <td>Ms</td>\n",
       "      <td>0</td>\n",
       "      <td>1</td>\n",
       "    </tr>\n",
       "    <tr>\n",
       "      <th>10</th>\n",
       "      <td>Mlle</td>\n",
       "      <td>0</td>\n",
       "      <td>2</td>\n",
       "    </tr>\n",
       "    <tr>\n",
       "      <th>13</th>\n",
       "      <td>Mrs</td>\n",
       "      <td>0</td>\n",
       "      <td>125</td>\n",
       "    </tr>\n",
       "    <tr>\n",
       "      <th>9</th>\n",
       "      <td>Miss</td>\n",
       "      <td>0</td>\n",
       "      <td>182</td>\n",
       "    </tr>\n",
       "    <tr>\n",
       "      <th>0</th>\n",
       "      <td>Capt</td>\n",
       "      <td>1</td>\n",
       "      <td>0</td>\n",
       "    </tr>\n",
       "    <tr>\n",
       "      <th>3</th>\n",
       "      <td>Don</td>\n",
       "      <td>1</td>\n",
       "      <td>0</td>\n",
       "    </tr>\n",
       "    <tr>\n",
       "      <th>5</th>\n",
       "      <td>Jonkheer</td>\n",
       "      <td>1</td>\n",
       "      <td>0</td>\n",
       "    </tr>\n",
       "    <tr>\n",
       "      <th>16</th>\n",
       "      <td>Sir</td>\n",
       "      <td>1</td>\n",
       "      <td>0</td>\n",
       "    </tr>\n",
       "    <tr>\n",
       "      <th>1</th>\n",
       "      <td>Col</td>\n",
       "      <td>2</td>\n",
       "      <td>0</td>\n",
       "    </tr>\n",
       "    <tr>\n",
       "      <th>7</th>\n",
       "      <td>Major</td>\n",
       "      <td>2</td>\n",
       "      <td>0</td>\n",
       "    </tr>\n",
       "    <tr>\n",
       "      <th>15</th>\n",
       "      <td>Rev</td>\n",
       "      <td>6</td>\n",
       "      <td>0</td>\n",
       "    </tr>\n",
       "    <tr>\n",
       "      <th>4</th>\n",
       "      <td>Dr</td>\n",
       "      <td>6</td>\n",
       "      <td>1</td>\n",
       "    </tr>\n",
       "    <tr>\n",
       "      <th>8</th>\n",
       "      <td>Master</td>\n",
       "      <td>40</td>\n",
       "      <td>0</td>\n",
       "    </tr>\n",
       "    <tr>\n",
       "      <th>12</th>\n",
       "      <td>Mr</td>\n",
       "      <td>517</td>\n",
       "      <td>0</td>\n",
       "    </tr>\n",
       "  </tbody>\n",
       "</table>\n",
       "</div>"
      ],
      "text/plain": [
       "female     Title    0    1\n",
       "2       Countess    0    1\n",
       "6           Lady    0    1\n",
       "11           Mme    0    1\n",
       "14            Ms    0    1\n",
       "10          Mlle    0    2\n",
       "13           Mrs    0  125\n",
       "9           Miss    0  182\n",
       "0           Capt    1    0\n",
       "3            Don    1    0\n",
       "5       Jonkheer    1    0\n",
       "16           Sir    1    0\n",
       "1            Col    2    0\n",
       "7          Major    2    0\n",
       "15           Rev    6    0\n",
       "4             Dr    6    1\n",
       "8         Master   40    0\n",
       "12            Mr  517    0"
      ]
     },
     "execution_count": 21,
     "metadata": {},
     "output_type": "execute_result"
    }
   ],
   "source": [
    "df.groupby(['Title']).female.value_counts().unstack(fill_value = 0).reset_index().sort_values([0,1])\n"
   ]
  },
  {
   "cell_type": "code",
   "execution_count": 22,
   "metadata": {},
   "outputs": [
    {
     "data": {
      "text/html": [
       "<div>\n",
       "<style scoped>\n",
       "    .dataframe tbody tr th:only-of-type {\n",
       "        vertical-align: middle;\n",
       "    }\n",
       "\n",
       "    .dataframe tbody tr th {\n",
       "        vertical-align: top;\n",
       "    }\n",
       "\n",
       "    .dataframe thead th {\n",
       "        text-align: right;\n",
       "    }\n",
       "</style>\n",
       "<table border=\"1\" class=\"dataframe\">\n",
       "  <thead>\n",
       "    <tr style=\"text-align: right;\">\n",
       "      <th></th>\n",
       "      <th>age</th>\n",
       "      <th>Title</th>\n",
       "    </tr>\n",
       "  </thead>\n",
       "  <tbody>\n",
       "    <tr>\n",
       "      <th>5</th>\n",
       "      <td>NaN</td>\n",
       "      <td>Mr</td>\n",
       "    </tr>\n",
       "    <tr>\n",
       "      <th>17</th>\n",
       "      <td>NaN</td>\n",
       "      <td>Mr</td>\n",
       "    </tr>\n",
       "    <tr>\n",
       "      <th>19</th>\n",
       "      <td>NaN</td>\n",
       "      <td>Mrs</td>\n",
       "    </tr>\n",
       "    <tr>\n",
       "      <th>26</th>\n",
       "      <td>NaN</td>\n",
       "      <td>Mr</td>\n",
       "    </tr>\n",
       "    <tr>\n",
       "      <th>28</th>\n",
       "      <td>NaN</td>\n",
       "      <td>Miss</td>\n",
       "    </tr>\n",
       "    <tr>\n",
       "      <th>...</th>\n",
       "      <td>...</td>\n",
       "      <td>...</td>\n",
       "    </tr>\n",
       "    <tr>\n",
       "      <th>859</th>\n",
       "      <td>NaN</td>\n",
       "      <td>Mr</td>\n",
       "    </tr>\n",
       "    <tr>\n",
       "      <th>863</th>\n",
       "      <td>NaN</td>\n",
       "      <td>Miss</td>\n",
       "    </tr>\n",
       "    <tr>\n",
       "      <th>868</th>\n",
       "      <td>NaN</td>\n",
       "      <td>Mr</td>\n",
       "    </tr>\n",
       "    <tr>\n",
       "      <th>878</th>\n",
       "      <td>NaN</td>\n",
       "      <td>Mr</td>\n",
       "    </tr>\n",
       "    <tr>\n",
       "      <th>888</th>\n",
       "      <td>NaN</td>\n",
       "      <td>Miss</td>\n",
       "    </tr>\n",
       "  </tbody>\n",
       "</table>\n",
       "<p>177 rows × 2 columns</p>\n",
       "</div>"
      ],
      "text/plain": [
       "     age Title\n",
       "5    NaN    Mr\n",
       "17   NaN    Mr\n",
       "19   NaN   Mrs\n",
       "26   NaN    Mr\n",
       "28   NaN  Miss\n",
       "..   ...   ...\n",
       "859  NaN    Mr\n",
       "863  NaN  Miss\n",
       "868  NaN    Mr\n",
       "878  NaN    Mr\n",
       "888  NaN  Miss\n",
       "\n",
       "[177 rows x 2 columns]"
      ]
     },
     "execution_count": 22,
     "metadata": {},
     "output_type": "execute_result"
    }
   ],
   "source": [
    "df[['age','Title']][df.age.isnull()]"
   ]
  },
  {
   "cell_type": "code",
   "execution_count": 23,
   "metadata": {},
   "outputs": [],
   "source": [
    "df['Title'] = df['Title'].replace(['Lady', 'Countess','Capt', 'Col',\\\n",
    " \t'Don', 'Dr', 'Major', 'Rev', 'Sir', 'Jonkheer', 'Dona'], 'Rare')\n",
    "\n",
    "df['Title'] = df['Title'].replace('Mlle', 'Miss')\n",
    "df['Title'] = df['Title'].replace('Ms', 'Miss')\n",
    "df['Title'] = df['Title'].replace('Mme', 'Mrs')"
   ]
  },
  {
   "cell_type": "code",
   "execution_count": 24,
   "metadata": {},
   "outputs": [],
   "source": [
    "title_dummies = pd.get_dummies(df.Title)\n",
    "df[title_dummies.columns] = title_dummies"
   ]
  },
  {
   "cell_type": "code",
   "execution_count": 25,
   "metadata": {},
   "outputs": [],
   "source": [
    "df.drop(['passengerid','name'], axis = 1,inplace = True)"
   ]
  },
  {
   "cell_type": "code",
   "execution_count": null,
   "metadata": {},
   "outputs": [],
   "source": []
  },
  {
   "cell_type": "code",
   "execution_count": 26,
   "metadata": {},
   "outputs": [],
   "source": [
    "from sklearn.cluster import KMeans\n",
    "from sklearn.preprocessing import StandardScaler\n",
    "from yellowbrick.cluster import KElbowVisualizer"
   ]
  },
  {
   "cell_type": "code",
   "execution_count": 27,
   "metadata": {},
   "outputs": [
    {
     "data": {
      "image/png": "[encoded data removed]",
      "text/plain": [
       "<Figure size 576x396 with 2 Axes>"
      ]
     },
     "metadata": {},
     "output_type": "display_data"
    },
    {
     "data": {
      "text/plain": [
       "<AxesSubplot:title={'center':'Distortion Score Elbow for KMeans Clustering'}, xlabel='k', ylabel='distortion score'>"
      ]
     },
     "execution_count": 27,
     "metadata": {},
     "output_type": "execute_result"
    }
   ],
   "source": [
    "scaler = StandardScaler()\n",
    "kmeans = KMeans()\n",
    "visualizer = KElbowVisualizer(kmeans, k = (1,12))\n",
    "visualizer.fit(scaler.fit_transform(df.select_dtypes(include = np.number).drop('age',axis =1).dropna()))\n",
    "visualizer.show()\n"
   ]
  },
  {
   "cell_type": "code",
   "execution_count": 28,
   "metadata": {},
   "outputs": [
    {
     "data": {
      "text/html": [
       "<div>\n",
       "<style scoped>\n",
       "    .dataframe tbody tr th:only-of-type {\n",
       "        vertical-align: middle;\n",
       "    }\n",
       "\n",
       "    .dataframe tbody tr th {\n",
       "        vertical-align: top;\n",
       "    }\n",
       "\n",
       "    .dataframe thead th {\n",
       "        text-align: right;\n",
       "    }\n",
       "</style>\n",
       "<table border=\"1\" class=\"dataframe\">\n",
       "  <thead>\n",
       "    <tr style=\"text-align: right;\">\n",
       "      <th></th>\n",
       "      <th>survived</th>\n",
       "      <th>age</th>\n",
       "      <th>sibsp</th>\n",
       "      <th>parch</th>\n",
       "      <th>ticket</th>\n",
       "      <th>fare</th>\n",
       "      <th>embarked</th>\n",
       "      <th>female</th>\n",
       "      <th>male</th>\n",
       "      <th>first_class</th>\n",
       "      <th>second_class</th>\n",
       "      <th>third_class</th>\n",
       "      <th>Title</th>\n",
       "      <th>Master</th>\n",
       "      <th>Miss</th>\n",
       "      <th>Mr</th>\n",
       "      <th>Mrs</th>\n",
       "      <th>Rare</th>\n",
       "    </tr>\n",
       "  </thead>\n",
       "  <tbody>\n",
       "  </tbody>\n",
       "</table>\n",
       "</div>"
      ],
      "text/plain": [
       "Empty DataFrame\n",
       "Columns: [survived, age, sibsp, parch, ticket, fare, embarked, female, male, first_class, second_class, third_class, Title, Master, Miss, Mr, Mrs, Rare]\n",
       "Index: []"
      ]
     },
     "execution_count": 28,
     "metadata": {},
     "output_type": "execute_result"
    }
   ],
   "source": [
    "df[df.fare.isnull()]"
   ]
  },
  {
   "cell_type": "code",
   "execution_count": 29,
   "metadata": {},
   "outputs": [
    {
     "data": {
      "text/plain": [
       "embarked\n",
       "C    7.8958\n",
       "Q    7.7500\n",
       "S    8.0500\n",
       "Name: fare, dtype: float64"
      ]
     },
     "execution_count": 29,
     "metadata": {},
     "output_type": "execute_result"
    }
   ],
   "source": [
    "df[df.third_class == 1].groupby('embarked').fare.median()"
   ]
  },
  {
   "cell_type": "code",
   "execution_count": 30,
   "metadata": {},
   "outputs": [],
   "source": [
    "df.fare.fillna(df.fare[(df.third_class == 1) & (df.embarked == 'S')].mean(), inplace = True)"
   ]
  },
  {
   "cell_type": "code",
   "execution_count": 31,
   "metadata": {},
   "outputs": [
    {
     "data": {
      "text/plain": [
       "KMeans(n_clusters=5, random_state=42)"
      ]
     },
     "execution_count": 31,
     "metadata": {},
     "output_type": "execute_result"
    }
   ],
   "source": [
    "kmeans = KMeans(n_clusters = 5, random_state=42)\n",
    "kmeans.fit(scaler.fit_transform(df.select_dtypes(include = np.number).drop('age',axis =1)))\n"
   ]
  },
  {
   "cell_type": "code",
   "execution_count": 32,
   "metadata": {},
   "outputs": [],
   "source": [
    "df['label'] = kmeans.labels_"
   ]
  },
  {
   "cell_type": "code",
   "execution_count": 33,
   "metadata": {},
   "outputs": [],
   "source": [
    "for i in kmeans.labels_:\n",
    "    df.loc[(df.label == i) & (df.age.isnull()) , 'age'] = df[df.label == i].age.median()"
   ]
  },
  {
   "cell_type": "code",
   "execution_count": 34,
   "metadata": {},
   "outputs": [],
   "source": [
    "#df.drop('label', axis = 1, inplace = True)"
   ]
  },
  {
   "cell_type": "code",
   "execution_count": 35,
   "metadata": {},
   "outputs": [
    {
     "data": {
      "text/plain": [
       "<AxesSubplot:xlabel='label', ylabel='age'>"
      ]
     },
     "execution_count": 35,
     "metadata": {},
     "output_type": "execute_result"
    },
    {
     "data": {
      "image/png": "[encoded data removed]",
      "text/plain": [
       "<Figure size 576x396 with 1 Axes>"
      ]
     },
     "metadata": {},
     "output_type": "display_data"
    }
   ],
   "source": [
    "sns.boxplot(data = df, x = 'label', y = 'age')"
   ]
  },
  {
   "cell_type": "code",
   "execution_count": 36,
   "metadata": {},
   "outputs": [],
   "source": [
    "title_1hot = pd.get_dummies(df.Title)\n",
    "df[title_1hot.columns] = title_1hot"
   ]
  },
  {
   "cell_type": "code",
   "execution_count": 37,
   "metadata": {},
   "outputs": [
    {
     "data": {
      "text/html": [
       "<div>\n",
       "<style scoped>\n",
       "    .dataframe tbody tr th:only-of-type {\n",
       "        vertical-align: middle;\n",
       "    }\n",
       "\n",
       "    .dataframe tbody tr th {\n",
       "        vertical-align: top;\n",
       "    }\n",
       "\n",
       "    .dataframe thead th {\n",
       "        text-align: right;\n",
       "    }\n",
       "</style>\n",
       "<table border=\"1\" class=\"dataframe\">\n",
       "  <thead>\n",
       "    <tr style=\"text-align: right;\">\n",
       "      <th></th>\n",
       "      <th>survived</th>\n",
       "      <th>age</th>\n",
       "      <th>sibsp</th>\n",
       "      <th>parch</th>\n",
       "      <th>ticket</th>\n",
       "      <th>fare</th>\n",
       "      <th>embarked</th>\n",
       "      <th>female</th>\n",
       "      <th>male</th>\n",
       "      <th>first_class</th>\n",
       "      <th>second_class</th>\n",
       "      <th>third_class</th>\n",
       "      <th>Title</th>\n",
       "      <th>Master</th>\n",
       "      <th>Miss</th>\n",
       "      <th>Mr</th>\n",
       "      <th>Mrs</th>\n",
       "      <th>Rare</th>\n",
       "      <th>label</th>\n",
       "    </tr>\n",
       "  </thead>\n",
       "  <tbody>\n",
       "    <tr>\n",
       "      <th>0</th>\n",
       "      <td>0</td>\n",
       "      <td>22.0</td>\n",
       "      <td>1</td>\n",
       "      <td>0</td>\n",
       "      <td>A/5 21171</td>\n",
       "      <td>7.2500</td>\n",
       "      <td>S</td>\n",
       "      <td>0</td>\n",
       "      <td>1</td>\n",
       "      <td>0</td>\n",
       "      <td>0</td>\n",
       "      <td>1</td>\n",
       "      <td>Mr</td>\n",
       "      <td>0</td>\n",
       "      <td>0</td>\n",
       "      <td>1</td>\n",
       "      <td>0</td>\n",
       "      <td>0</td>\n",
       "      <td>0</td>\n",
       "    </tr>\n",
       "    <tr>\n",
       "      <th>1</th>\n",
       "      <td>1</td>\n",
       "      <td>38.0</td>\n",
       "      <td>1</td>\n",
       "      <td>0</td>\n",
       "      <td>PC 17599</td>\n",
       "      <td>71.2833</td>\n",
       "      <td>C</td>\n",
       "      <td>1</td>\n",
       "      <td>0</td>\n",
       "      <td>1</td>\n",
       "      <td>0</td>\n",
       "      <td>0</td>\n",
       "      <td>Mrs</td>\n",
       "      <td>0</td>\n",
       "      <td>0</td>\n",
       "      <td>0</td>\n",
       "      <td>1</td>\n",
       "      <td>0</td>\n",
       "      <td>1</td>\n",
       "    </tr>\n",
       "    <tr>\n",
       "      <th>2</th>\n",
       "      <td>1</td>\n",
       "      <td>26.0</td>\n",
       "      <td>0</td>\n",
       "      <td>0</td>\n",
       "      <td>STON/O2. 3101282</td>\n",
       "      <td>7.9250</td>\n",
       "      <td>S</td>\n",
       "      <td>1</td>\n",
       "      <td>0</td>\n",
       "      <td>0</td>\n",
       "      <td>0</td>\n",
       "      <td>1</td>\n",
       "      <td>Miss</td>\n",
       "      <td>0</td>\n",
       "      <td>1</td>\n",
       "      <td>0</td>\n",
       "      <td>0</td>\n",
       "      <td>0</td>\n",
       "      <td>2</td>\n",
       "    </tr>\n",
       "    <tr>\n",
       "      <th>3</th>\n",
       "      <td>1</td>\n",
       "      <td>35.0</td>\n",
       "      <td>1</td>\n",
       "      <td>0</td>\n",
       "      <td>113803</td>\n",
       "      <td>53.1000</td>\n",
       "      <td>S</td>\n",
       "      <td>1</td>\n",
       "      <td>0</td>\n",
       "      <td>1</td>\n",
       "      <td>0</td>\n",
       "      <td>0</td>\n",
       "      <td>Mrs</td>\n",
       "      <td>0</td>\n",
       "      <td>0</td>\n",
       "      <td>0</td>\n",
       "      <td>1</td>\n",
       "      <td>0</td>\n",
       "      <td>1</td>\n",
       "    </tr>\n",
       "    <tr>\n",
       "      <th>4</th>\n",
       "      <td>0</td>\n",
       "      <td>35.0</td>\n",
       "      <td>0</td>\n",
       "      <td>0</td>\n",
       "      <td>373450</td>\n",
       "      <td>8.0500</td>\n",
       "      <td>S</td>\n",
       "      <td>0</td>\n",
       "      <td>1</td>\n",
       "      <td>0</td>\n",
       "      <td>0</td>\n",
       "      <td>1</td>\n",
       "      <td>Mr</td>\n",
       "      <td>0</td>\n",
       "      <td>0</td>\n",
       "      <td>1</td>\n",
       "      <td>0</td>\n",
       "      <td>0</td>\n",
       "      <td>0</td>\n",
       "    </tr>\n",
       "  </tbody>\n",
       "</table>\n",
       "</div>"
      ],
      "text/plain": [
       "   survived   age  sibsp  parch            ticket     fare embarked  female  \\\n",
       "0         0  22.0      1      0         A/5 21171   7.2500        S       0   \n",
       "1         1  38.0      1      0          PC 17599  71.2833        C       1   \n",
       "2         1  26.0      0      0  STON/O2. 3101282   7.9250        S       1   \n",
       "3         1  35.0      1      0            113803  53.1000        S       1   \n",
       "4         0  35.0      0      0            373450   8.0500        S       0   \n",
       "\n",
       "   male  first_class  second_class  third_class Title  Master  Miss  Mr  Mrs  \\\n",
       "0     1            0             0            1    Mr       0     0   1    0   \n",
       "1     0            1             0            0   Mrs       0     0   0    1   \n",
       "2     0            0             0            1  Miss       0     1   0    0   \n",
       "3     0            1             0            0   Mrs       0     0   0    1   \n",
       "4     1            0             0            1    Mr       0     0   1    0   \n",
       "\n",
       "   Rare  label  \n",
       "0     0      0  \n",
       "1     0      1  \n",
       "2     0      2  \n",
       "3     0      1  \n",
       "4     0      0  "
      ]
     },
     "execution_count": 37,
     "metadata": {},
     "output_type": "execute_result"
    }
   ],
   "source": [
    "df.head()"
   ]
  },
  {
   "cell_type": "code",
   "execution_count": 38,
   "metadata": {},
   "outputs": [],
   "source": [
    "embarked_1hot = pd.get_dummies(df.embarked)\n",
    "df[embarked_1hot.columns] = embarked_1hot"
   ]
  },
  {
   "cell_type": "code",
   "execution_count": 39,
   "metadata": {},
   "outputs": [],
   "source": [
    "df.drop(['ticket','Title','label'], axis = 1, inplace = True)"
   ]
  },
  {
   "cell_type": "code",
   "execution_count": 40,
   "metadata": {},
   "outputs": [],
   "source": [
    "df.drop('embarked', axis = 1, inplace = True)"
   ]
  },
  {
   "cell_type": "code",
   "execution_count": 41,
   "metadata": {},
   "outputs": [
    {
     "data": {
      "text/html": [
       "<div>\n",
       "<style scoped>\n",
       "    .dataframe tbody tr th:only-of-type {\n",
       "        vertical-align: middle;\n",
       "    }\n",
       "\n",
       "    .dataframe tbody tr th {\n",
       "        vertical-align: top;\n",
       "    }\n",
       "\n",
       "    .dataframe thead th {\n",
       "        text-align: right;\n",
       "    }\n",
       "</style>\n",
       "<table border=\"1\" class=\"dataframe\">\n",
       "  <thead>\n",
       "    <tr style=\"text-align: right;\">\n",
       "      <th></th>\n",
       "      <th>survived</th>\n",
       "      <th>age</th>\n",
       "      <th>sibsp</th>\n",
       "      <th>parch</th>\n",
       "      <th>fare</th>\n",
       "      <th>female</th>\n",
       "      <th>male</th>\n",
       "      <th>first_class</th>\n",
       "      <th>second_class</th>\n",
       "      <th>third_class</th>\n",
       "      <th>Master</th>\n",
       "      <th>Miss</th>\n",
       "      <th>Mr</th>\n",
       "      <th>Mrs</th>\n",
       "      <th>Rare</th>\n",
       "      <th>C</th>\n",
       "      <th>Q</th>\n",
       "      <th>S</th>\n",
       "    </tr>\n",
       "  </thead>\n",
       "  <tbody>\n",
       "    <tr>\n",
       "      <th>0</th>\n",
       "      <td>0</td>\n",
       "      <td>22.0</td>\n",
       "      <td>1</td>\n",
       "      <td>0</td>\n",
       "      <td>7.2500</td>\n",
       "      <td>0</td>\n",
       "      <td>1</td>\n",
       "      <td>0</td>\n",
       "      <td>0</td>\n",
       "      <td>1</td>\n",
       "      <td>0</td>\n",
       "      <td>0</td>\n",
       "      <td>1</td>\n",
       "      <td>0</td>\n",
       "      <td>0</td>\n",
       "      <td>0</td>\n",
       "      <td>0</td>\n",
       "      <td>1</td>\n",
       "    </tr>\n",
       "    <tr>\n",
       "      <th>1</th>\n",
       "      <td>1</td>\n",
       "      <td>38.0</td>\n",
       "      <td>1</td>\n",
       "      <td>0</td>\n",
       "      <td>71.2833</td>\n",
       "      <td>1</td>\n",
       "      <td>0</td>\n",
       "      <td>1</td>\n",
       "      <td>0</td>\n",
       "      <td>0</td>\n",
       "      <td>0</td>\n",
       "      <td>0</td>\n",
       "      <td>0</td>\n",
       "      <td>1</td>\n",
       "      <td>0</td>\n",
       "      <td>1</td>\n",
       "      <td>0</td>\n",
       "      <td>0</td>\n",
       "    </tr>\n",
       "    <tr>\n",
       "      <th>2</th>\n",
       "      <td>1</td>\n",
       "      <td>26.0</td>\n",
       "      <td>0</td>\n",
       "      <td>0</td>\n",
       "      <td>7.9250</td>\n",
       "      <td>1</td>\n",
       "      <td>0</td>\n",
       "      <td>0</td>\n",
       "      <td>0</td>\n",
       "      <td>1</td>\n",
       "      <td>0</td>\n",
       "      <td>1</td>\n",
       "      <td>0</td>\n",
       "      <td>0</td>\n",
       "      <td>0</td>\n",
       "      <td>0</td>\n",
       "      <td>0</td>\n",
       "      <td>1</td>\n",
       "    </tr>\n",
       "    <tr>\n",
       "      <th>3</th>\n",
       "      <td>1</td>\n",
       "      <td>35.0</td>\n",
       "      <td>1</td>\n",
       "      <td>0</td>\n",
       "      <td>53.1000</td>\n",
       "      <td>1</td>\n",
       "      <td>0</td>\n",
       "      <td>1</td>\n",
       "      <td>0</td>\n",
       "      <td>0</td>\n",
       "      <td>0</td>\n",
       "      <td>0</td>\n",
       "      <td>0</td>\n",
       "      <td>1</td>\n",
       "      <td>0</td>\n",
       "      <td>0</td>\n",
       "      <td>0</td>\n",
       "      <td>1</td>\n",
       "    </tr>\n",
       "    <tr>\n",
       "      <th>4</th>\n",
       "      <td>0</td>\n",
       "      <td>35.0</td>\n",
       "      <td>0</td>\n",
       "      <td>0</td>\n",
       "      <td>8.0500</td>\n",
       "      <td>0</td>\n",
       "      <td>1</td>\n",
       "      <td>0</td>\n",
       "      <td>0</td>\n",
       "      <td>1</td>\n",
       "      <td>0</td>\n",
       "      <td>0</td>\n",
       "      <td>1</td>\n",
       "      <td>0</td>\n",
       "      <td>0</td>\n",
       "      <td>0</td>\n",
       "      <td>0</td>\n",
       "      <td>1</td>\n",
       "    </tr>\n",
       "  </tbody>\n",
       "</table>\n",
       "</div>"
      ],
      "text/plain": [
       "   survived   age  sibsp  parch     fare  female  male  first_class  \\\n",
       "0         0  22.0      1      0   7.2500       0     1            0   \n",
       "1         1  38.0      1      0  71.2833       1     0            1   \n",
       "2         1  26.0      0      0   7.9250       1     0            0   \n",
       "3         1  35.0      1      0  53.1000       1     0            1   \n",
       "4         0  35.0      0      0   8.0500       0     1            0   \n",
       "\n",
       "   second_class  third_class  Master  Miss  Mr  Mrs  Rare  C  Q  S  \n",
       "0             0            1       0     0   1    0     0  0  0  1  \n",
       "1             0            0       0     0   0    1     0  1  0  0  \n",
       "2             0            1       0     1   0    0     0  0  0  1  \n",
       "3             0            0       0     0   0    1     0  0  0  1  \n",
       "4             0            1       0     0   1    0     0  0  0  1  "
      ]
     },
     "execution_count": 41,
     "metadata": {},
     "output_type": "execute_result"
    }
   ],
   "source": [
    "df.head()"
   ]
  },
  {
   "cell_type": "code",
   "execution_count": 64,
   "metadata": {},
   "outputs": [],
   "source": [
    "X_train = df.drop('survived', axis = 1).copy()\n",
    "y_train = df.survived.copy()"
   ]
  },
  {
   "cell_type": "code",
   "execution_count": 62,
   "metadata": {},
   "outputs": [],
   "source": [
    "from sklearn.linear_model import SGDClassifier"
   ]
  },
  {
   "cell_type": "code",
   "execution_count": 65,
   "metadata": {},
   "outputs": [
    {
     "data": {
      "text/plain": [
       "SGDClassifier(random_state=42)"
      ]
     },
     "execution_count": 65,
     "metadata": {},
     "output_type": "execute_result"
    }
   ],
   "source": [
    "sgd_clf = SGDClassifier(random_state=42)\n",
    "sgd_clf.fit(X_train, y_train)"
   ]
  },
  {
   "cell_type": "code",
   "execution_count": 71,
   "metadata": {},
   "outputs": [],
   "source": [
    "from sklearn.model_selection import cross_val_score, cross_val_predict\n",
    "from sklearn.metrics import confusion_matrix"
   ]
  },
  {
   "cell_type": "code",
   "execution_count": 67,
   "metadata": {},
   "outputs": [
    {
     "data": {
      "text/plain": [
       "array([0.73063973, 0.65319865, 0.72727273])"
      ]
     },
     "execution_count": 67,
     "metadata": {},
     "output_type": "execute_result"
    }
   ],
   "source": [
    "cross_val_score(sgd_clf, X_train, y_train, cv=3, scoring=\"accuracy\")"
   ]
  },
  {
   "cell_type": "code",
   "execution_count": 70,
   "metadata": {},
   "outputs": [],
   "source": [
    "y_train_pred = cross_val_predict(sgd_clf, X_train, y_train, cv=3)"
   ]
  },
  {
   "cell_type": "code",
   "execution_count": 72,
   "metadata": {},
   "outputs": [
    {
     "data": {
      "text/plain": [
       "array([[373, 176],\n",
       "       [ 88, 254]], dtype=int64)"
      ]
     },
     "execution_count": 72,
     "metadata": {},
     "output_type": "execute_result"
    }
   ],
   "source": [
    "confusion_matrix(y_train, y_train_pred)"
   ]
  },
  {
   "cell_type": "code",
   "execution_count": 73,
   "metadata": {},
   "outputs": [],
   "source": [
    "pred = sgd_clf.predict(X_train)"
   ]
  },
  {
   "cell_type": "code",
   "execution_count": 75,
   "metadata": {},
   "outputs": [
    {
     "data": {
      "text/plain": [
       "array([[493,  56],\n",
       "       [227, 115]], dtype=int64)"
      ]
     },
     "execution_count": 75,
     "metadata": {},
     "output_type": "execute_result"
    }
   ],
   "source": [
    "confusion_matrix(y_train, pred)"
   ]
  },
  {
   "cell_type": "code",
   "execution_count": 241,
   "metadata": {},
   "outputs": [],
   "source": [
    "from sklearn.metrics import f1_score, accuracy_score"
   ]
  },
  {
   "cell_type": "code",
   "execution_count": 78,
   "metadata": {},
   "outputs": [
    {
     "data": {
      "text/plain": [
       "0.4483430799220273"
      ]
     },
     "execution_count": 78,
     "metadata": {},
     "output_type": "execute_result"
    }
   ],
   "source": [
    "f1_score(y_train, pred)"
   ]
  },
  {
   "cell_type": "code",
   "execution_count": 89,
   "metadata": {},
   "outputs": [],
   "source": [
    "from sklearn.ensemble import RandomForestClassifier\n",
    "from sklearn.model_selection import GridSearchCV"
   ]
  },
  {
   "cell_type": "code",
   "execution_count": 80,
   "metadata": {},
   "outputs": [],
   "source": [
    "forest_clf = RandomForestClassifier(random_state=42)\n",
    "y_probas_forest = cross_val_predict(forest_clf, X_train, y_train, cv=3,\n",
    " method=\"predict_proba\")"
   ]
  },
  {
   "cell_type": "code",
   "execution_count": 81,
   "metadata": {},
   "outputs": [
    {
     "data": {
      "text/plain": [
       "array([[0.87, 0.13],\n",
       "       [0.  , 1.  ],\n",
       "       [0.78, 0.22],\n",
       "       ...,\n",
       "       [0.68, 0.32],\n",
       "       [0.67, 0.33],\n",
       "       [0.94, 0.06]])"
      ]
     },
     "execution_count": 81,
     "metadata": {},
     "output_type": "execute_result"
    }
   ],
   "source": [
    "y_probas_forest"
   ]
  },
  {
   "cell_type": "code",
   "execution_count": 86,
   "metadata": {},
   "outputs": [],
   "source": [
    "forest_pred = y_probas_forest[:,1]\n",
    "forest_pred = np.round(forest_pred)"
   ]
  },
  {
   "cell_type": "code",
   "execution_count": 87,
   "metadata": {},
   "outputs": [
    {
     "data": {
      "text/plain": [
       "0.7256371814092953"
      ]
     },
     "execution_count": 87,
     "metadata": {},
     "output_type": "execute_result"
    }
   ],
   "source": [
    "f1_score(y_train, forest_pred)"
   ]
  },
  {
   "cell_type": "code",
   "execution_count": 109,
   "metadata": {},
   "outputs": [],
   "source": [
    "param_grid = { \n",
    "    'n_estimators': range(400,601,10),\n",
    "    'max_features': ['auto', 'sqrt', 'log2'],\n",
    "    'max_depth' : [3,4,5,6,7,8],\n",
    "    'criterion' :['gini', 'entropy']\n",
    "}"
   ]
  },
  {
   "cell_type": "code",
   "execution_count": 110,
   "metadata": {},
   "outputs": [
    {
     "name": "stdout",
     "output_type": "stream",
     "text": [
      "Fitting 5 folds for each of 756 candidates, totalling 3780 fits\n"
     ]
    },
    {
     "name": "stderr",
     "output_type": "stream",
     "text": [
      "[Parallel(n_jobs=-1)]: Using backend LokyBackend with 6 concurrent workers.\n",
      "[Parallel(n_jobs=-1)]: Done  20 tasks      | elapsed:    1.7s\n",
      "[Parallel(n_jobs=-1)]: Done 116 tasks      | elapsed:   10.4s\n",
      "[Parallel(n_jobs=-1)]: Done 276 tasks      | elapsed:   24.8s\n",
      "[Parallel(n_jobs=-1)]: Done 500 tasks      | elapsed:   45.4s\n",
      "[Parallel(n_jobs=-1)]: Done 788 tasks      | elapsed:  1.2min\n",
      "[Parallel(n_jobs=-1)]: Done 1140 tasks      | elapsed:  1.8min\n",
      "[Parallel(n_jobs=-1)]: Done 1556 tasks      | elapsed:  2.5min\n",
      "[Parallel(n_jobs=-1)]: Done 2036 tasks      | elapsed:  3.3min\n",
      "[Parallel(n_jobs=-1)]: Done 2580 tasks      | elapsed:  4.2min\n",
      "[Parallel(n_jobs=-1)]: Done 3188 tasks      | elapsed:  5.2min\n",
      "[Parallel(n_jobs=-1)]: Done 3780 out of 3780 | elapsed:  6.3min finished\n"
     ]
    },
    {
     "data": {
      "text/plain": [
       "GridSearchCV(cv=5, estimator=RandomForestClassifier(random_state=42), n_jobs=-1,\n",
       "             param_grid={'criterion': ['gini', 'entropy'],\n",
       "                         'max_depth': [3, 4, 5, 6, 7, 8],\n",
       "                         'max_features': ['auto', 'sqrt', 'log2'],\n",
       "                         'n_estimators': range(400, 601, 10)},\n",
       "             scoring='f1', verbose=3)"
      ]
     },
     "execution_count": 110,
     "metadata": {},
     "output_type": "execute_result"
    }
   ],
   "source": [
    "CV_rfc = GridSearchCV(estimator=forest_clf, param_grid=param_grid, cv= 5, n_jobs = -1, scoring='f1', verbose=3)\n",
    "CV_rfc.fit(X_train, y_train)"
   ]
  },
  {
   "cell_type": "code",
   "execution_count": 111,
   "metadata": {},
   "outputs": [
    {
     "data": {
      "text/plain": [
       "{'criterion': 'gini',\n",
       " 'max_depth': 4,\n",
       " 'max_features': 'auto',\n",
       " 'n_estimators': 400}"
      ]
     },
     "execution_count": 111,
     "metadata": {},
     "output_type": "execute_result"
    }
   ],
   "source": [
    "cvres = CV_rfc.cv_results_\n",
    "CV_rfc.best_params_"
   ]
  },
  {
   "cell_type": "code",
   "execution_count": 112,
   "metadata": {},
   "outputs": [
    {
     "name": "stdout",
     "output_type": "stream",
     "text": [
      "0.7452459828448724 {'criterion': 'gini', 'max_depth': 3, 'max_features': 'auto', 'n_estimators': 400}\n",
      "0.7452459828448724 {'criterion': 'gini', 'max_depth': 3, 'max_features': 'auto', 'n_estimators': 410}\n",
      "0.7471142899763374 {'criterion': 'gini', 'max_depth': 3, 'max_features': 'auto', 'n_estimators': 420}\n",
      "0.7453011335363154 {'criterion': 'gini', 'max_depth': 3, 'max_features': 'auto', 'n_estimators': 430}\n",
      "0.7453011335363154 {'criterion': 'gini', 'max_depth': 3, 'max_features': 'auto', 'n_estimators': 440}\n",
      "0.7452459828448724 {'criterion': 'gini', 'max_depth': 3, 'max_features': 'auto', 'n_estimators': 450}\n",
      "0.7452459828448724 {'criterion': 'gini', 'max_depth': 3, 'max_features': 'auto', 'n_estimators': 460}\n",
      "0.7452459828448724 {'criterion': 'gini', 'max_depth': 3, 'max_features': 'auto', 'n_estimators': 470}\n",
      "0.7452459828448724 {'criterion': 'gini', 'max_depth': 3, 'max_features': 'auto', 'n_estimators': 480}\n",
      "0.7452459828448724 {'criterion': 'gini', 'max_depth': 3, 'max_features': 'auto', 'n_estimators': 490}\n",
      "0.7452459828448724 {'criterion': 'gini', 'max_depth': 3, 'max_features': 'auto', 'n_estimators': 500}\n",
      "0.7434328264048504 {'criterion': 'gini', 'max_depth': 3, 'max_features': 'auto', 'n_estimators': 510}\n",
      "0.7452459828448724 {'criterion': 'gini', 'max_depth': 3, 'max_features': 'auto', 'n_estimators': 520}\n",
      "0.7452459828448724 {'criterion': 'gini', 'max_depth': 3, 'max_features': 'auto', 'n_estimators': 530}\n",
      "0.7452459828448724 {'criterion': 'gini', 'max_depth': 3, 'max_features': 'auto', 'n_estimators': 540}\n",
      "0.7452459828448724 {'criterion': 'gini', 'max_depth': 3, 'max_features': 'auto', 'n_estimators': 550}\n",
      "0.7437434141120465 {'criterion': 'gini', 'max_depth': 3, 'max_features': 'auto', 'n_estimators': 560}\n",
      "0.7437434141120465 {'criterion': 'gini', 'max_depth': 3, 'max_features': 'auto', 'n_estimators': 570}\n",
      "0.7437434141120465 {'criterion': 'gini', 'max_depth': 3, 'max_features': 'auto', 'n_estimators': 580}\n",
      "0.7418751069805813 {'criterion': 'gini', 'max_depth': 3, 'max_features': 'auto', 'n_estimators': 590}\n",
      "0.740066828113479 {'criterion': 'gini', 'max_depth': 3, 'max_features': 'auto', 'n_estimators': 600}\n",
      "0.7452459828448724 {'criterion': 'gini', 'max_depth': 3, 'max_features': 'sqrt', 'n_estimators': 400}\n",
      "0.7452459828448724 {'criterion': 'gini', 'max_depth': 3, 'max_features': 'sqrt', 'n_estimators': 410}\n",
      "0.7471142899763374 {'criterion': 'gini', 'max_depth': 3, 'max_features': 'sqrt', 'n_estimators': 420}\n",
      "0.7453011335363154 {'criterion': 'gini', 'max_depth': 3, 'max_features': 'sqrt', 'n_estimators': 430}\n",
      "0.7453011335363154 {'criterion': 'gini', 'max_depth': 3, 'max_features': 'sqrt', 'n_estimators': 440}\n",
      "0.7452459828448724 {'criterion': 'gini', 'max_depth': 3, 'max_features': 'sqrt', 'n_estimators': 450}\n",
      "0.7452459828448724 {'criterion': 'gini', 'max_depth': 3, 'max_features': 'sqrt', 'n_estimators': 460}\n",
      "0.7452459828448724 {'criterion': 'gini', 'max_depth': 3, 'max_features': 'sqrt', 'n_estimators': 470}\n",
      "0.7452459828448724 {'criterion': 'gini', 'max_depth': 3, 'max_features': 'sqrt', 'n_estimators': 480}\n",
      "0.7452459828448724 {'criterion': 'gini', 'max_depth': 3, 'max_features': 'sqrt', 'n_estimators': 490}\n",
      "0.7452459828448724 {'criterion': 'gini', 'max_depth': 3, 'max_features': 'sqrt', 'n_estimators': 500}\n",
      "0.7434328264048504 {'criterion': 'gini', 'max_depth': 3, 'max_features': 'sqrt', 'n_estimators': 510}\n",
      "0.7452459828448724 {'criterion': 'gini', 'max_depth': 3, 'max_features': 'sqrt', 'n_estimators': 520}\n",
      "0.7452459828448724 {'criterion': 'gini', 'max_depth': 3, 'max_features': 'sqrt', 'n_estimators': 530}\n",
      "0.7452459828448724 {'criterion': 'gini', 'max_depth': 3, 'max_features': 'sqrt', 'n_estimators': 540}\n",
      "0.7452459828448724 {'criterion': 'gini', 'max_depth': 3, 'max_features': 'sqrt', 'n_estimators': 550}\n",
      "0.7437434141120465 {'criterion': 'gini', 'max_depth': 3, 'max_features': 'sqrt', 'n_estimators': 560}\n",
      "0.7437434141120465 {'criterion': 'gini', 'max_depth': 3, 'max_features': 'sqrt', 'n_estimators': 570}\n",
      "0.7437434141120465 {'criterion': 'gini', 'max_depth': 3, 'max_features': 'sqrt', 'n_estimators': 580}\n",
      "0.7418751069805813 {'criterion': 'gini', 'max_depth': 3, 'max_features': 'sqrt', 'n_estimators': 590}\n",
      "0.740066828113479 {'criterion': 'gini', 'max_depth': 3, 'max_features': 'sqrt', 'n_estimators': 600}\n",
      "0.7452459828448724 {'criterion': 'gini', 'max_depth': 3, 'max_features': 'log2', 'n_estimators': 400}\n",
      "0.7452459828448724 {'criterion': 'gini', 'max_depth': 3, 'max_features': 'log2', 'n_estimators': 410}\n",
      "0.7471142899763374 {'criterion': 'gini', 'max_depth': 3, 'max_features': 'log2', 'n_estimators': 420}\n",
      "0.7453011335363154 {'criterion': 'gini', 'max_depth': 3, 'max_features': 'log2', 'n_estimators': 430}\n",
      "0.7453011335363154 {'criterion': 'gini', 'max_depth': 3, 'max_features': 'log2', 'n_estimators': 440}\n",
      "0.7452459828448724 {'criterion': 'gini', 'max_depth': 3, 'max_features': 'log2', 'n_estimators': 450}\n",
      "0.7452459828448724 {'criterion': 'gini', 'max_depth': 3, 'max_features': 'log2', 'n_estimators': 460}\n",
      "0.7452459828448724 {'criterion': 'gini', 'max_depth': 3, 'max_features': 'log2', 'n_estimators': 470}\n",
      "0.7452459828448724 {'criterion': 'gini', 'max_depth': 3, 'max_features': 'log2', 'n_estimators': 480}\n",
      "0.7452459828448724 {'criterion': 'gini', 'max_depth': 3, 'max_features': 'log2', 'n_estimators': 490}\n",
      "0.7452459828448724 {'criterion': 'gini', 'max_depth': 3, 'max_features': 'log2', 'n_estimators': 500}\n",
      "0.7434328264048504 {'criterion': 'gini', 'max_depth': 3, 'max_features': 'log2', 'n_estimators': 510}\n",
      "0.7452459828448724 {'criterion': 'gini', 'max_depth': 3, 'max_features': 'log2', 'n_estimators': 520}\n",
      "0.7452459828448724 {'criterion': 'gini', 'max_depth': 3, 'max_features': 'log2', 'n_estimators': 530}\n",
      "0.7452459828448724 {'criterion': 'gini', 'max_depth': 3, 'max_features': 'log2', 'n_estimators': 540}\n",
      "0.7452459828448724 {'criterion': 'gini', 'max_depth': 3, 'max_features': 'log2', 'n_estimators': 550}\n",
      "0.7437434141120465 {'criterion': 'gini', 'max_depth': 3, 'max_features': 'log2', 'n_estimators': 560}\n",
      "0.7437434141120465 {'criterion': 'gini', 'max_depth': 3, 'max_features': 'log2', 'n_estimators': 570}\n",
      "0.7437434141120465 {'criterion': 'gini', 'max_depth': 3, 'max_features': 'log2', 'n_estimators': 580}\n",
      "0.7418751069805813 {'criterion': 'gini', 'max_depth': 3, 'max_features': 'log2', 'n_estimators': 590}\n",
      "0.740066828113479 {'criterion': 'gini', 'max_depth': 3, 'max_features': 'log2', 'n_estimators': 600}\n",
      "0.7644412502938918 {'criterion': 'gini', 'max_depth': 4, 'max_features': 'auto', 'n_estimators': 400}\n",
      "0.7644412502938918 {'criterion': 'gini', 'max_depth': 4, 'max_features': 'auto', 'n_estimators': 410}\n",
      "0.7644412502938918 {'criterion': 'gini', 'max_depth': 4, 'max_features': 'auto', 'n_estimators': 420}\n",
      "0.7644412502938918 {'criterion': 'gini', 'max_depth': 4, 'max_features': 'auto', 'n_estimators': 430}\n",
      "0.7644412502938918 {'criterion': 'gini', 'max_depth': 4, 'max_features': 'auto', 'n_estimators': 440}\n",
      "0.7644412502938918 {'criterion': 'gini', 'max_depth': 4, 'max_features': 'auto', 'n_estimators': 450}\n",
      "0.7644412502938918 {'criterion': 'gini', 'max_depth': 4, 'max_features': 'auto', 'n_estimators': 460}\n",
      "0.7644412502938918 {'criterion': 'gini', 'max_depth': 4, 'max_features': 'auto', 'n_estimators': 470}\n",
      "0.7644412502938918 {'criterion': 'gini', 'max_depth': 4, 'max_features': 'auto', 'n_estimators': 480}\n",
      "0.7644412502938918 {'criterion': 'gini', 'max_depth': 4, 'max_features': 'auto', 'n_estimators': 490}\n",
      "0.7644412502938918 {'criterion': 'gini', 'max_depth': 4, 'max_features': 'auto', 'n_estimators': 500}\n",
      "0.7644412502938918 {'criterion': 'gini', 'max_depth': 4, 'max_features': 'auto', 'n_estimators': 510}\n",
      "0.7644412502938918 {'criterion': 'gini', 'max_depth': 4, 'max_features': 'auto', 'n_estimators': 520}\n",
      "0.7644412502938918 {'criterion': 'gini', 'max_depth': 4, 'max_features': 'auto', 'n_estimators': 530}\n",
      "0.7644412502938918 {'criterion': 'gini', 'max_depth': 4, 'max_features': 'auto', 'n_estimators': 540}\n",
      "0.7644412502938918 {'criterion': 'gini', 'max_depth': 4, 'max_features': 'auto', 'n_estimators': 550}\n",
      "0.7644412502938918 {'criterion': 'gini', 'max_depth': 4, 'max_features': 'auto', 'n_estimators': 560}\n",
      "0.7644412502938918 {'criterion': 'gini', 'max_depth': 4, 'max_features': 'auto', 'n_estimators': 570}\n",
      "0.7644412502938918 {'criterion': 'gini', 'max_depth': 4, 'max_features': 'auto', 'n_estimators': 580}\n",
      "0.7644412502938918 {'criterion': 'gini', 'max_depth': 4, 'max_features': 'auto', 'n_estimators': 590}\n",
      "0.7644412502938918 {'criterion': 'gini', 'max_depth': 4, 'max_features': 'auto', 'n_estimators': 600}\n",
      "0.7644412502938918 {'criterion': 'gini', 'max_depth': 4, 'max_features': 'sqrt', 'n_estimators': 400}\n",
      "0.7644412502938918 {'criterion': 'gini', 'max_depth': 4, 'max_features': 'sqrt', 'n_estimators': 410}\n",
      "0.7644412502938918 {'criterion': 'gini', 'max_depth': 4, 'max_features': 'sqrt', 'n_estimators': 420}\n",
      "0.7644412502938918 {'criterion': 'gini', 'max_depth': 4, 'max_features': 'sqrt', 'n_estimators': 430}\n",
      "0.7644412502938918 {'criterion': 'gini', 'max_depth': 4, 'max_features': 'sqrt', 'n_estimators': 440}\n",
      "0.7644412502938918 {'criterion': 'gini', 'max_depth': 4, 'max_features': 'sqrt', 'n_estimators': 450}\n",
      "0.7644412502938918 {'criterion': 'gini', 'max_depth': 4, 'max_features': 'sqrt', 'n_estimators': 460}\n",
      "0.7644412502938918 {'criterion': 'gini', 'max_depth': 4, 'max_features': 'sqrt', 'n_estimators': 470}\n",
      "0.7644412502938918 {'criterion': 'gini', 'max_depth': 4, 'max_features': 'sqrt', 'n_estimators': 480}\n",
      "0.7644412502938918 {'criterion': 'gini', 'max_depth': 4, 'max_features': 'sqrt', 'n_estimators': 490}\n",
      "0.7644412502938918 {'criterion': 'gini', 'max_depth': 4, 'max_features': 'sqrt', 'n_estimators': 500}\n",
      "0.7644412502938918 {'criterion': 'gini', 'max_depth': 4, 'max_features': 'sqrt', 'n_estimators': 510}\n",
      "0.7644412502938918 {'criterion': 'gini', 'max_depth': 4, 'max_features': 'sqrt', 'n_estimators': 520}\n",
      "0.7644412502938918 {'criterion': 'gini', 'max_depth': 4, 'max_features': 'sqrt', 'n_estimators': 530}\n",
      "0.7644412502938918 {'criterion': 'gini', 'max_depth': 4, 'max_features': 'sqrt', 'n_estimators': 540}\n",
      "0.7644412502938918 {'criterion': 'gini', 'max_depth': 4, 'max_features': 'sqrt', 'n_estimators': 550}\n",
      "0.7644412502938918 {'criterion': 'gini', 'max_depth': 4, 'max_features': 'sqrt', 'n_estimators': 560}\n",
      "0.7644412502938918 {'criterion': 'gini', 'max_depth': 4, 'max_features': 'sqrt', 'n_estimators': 570}\n",
      "0.7644412502938918 {'criterion': 'gini', 'max_depth': 4, 'max_features': 'sqrt', 'n_estimators': 580}\n",
      "0.7644412502938918 {'criterion': 'gini', 'max_depth': 4, 'max_features': 'sqrt', 'n_estimators': 590}\n",
      "0.7644412502938918 {'criterion': 'gini', 'max_depth': 4, 'max_features': 'sqrt', 'n_estimators': 600}\n",
      "0.7644412502938918 {'criterion': 'gini', 'max_depth': 4, 'max_features': 'log2', 'n_estimators': 400}\n",
      "0.7644412502938918 {'criterion': 'gini', 'max_depth': 4, 'max_features': 'log2', 'n_estimators': 410}\n",
      "0.7644412502938918 {'criterion': 'gini', 'max_depth': 4, 'max_features': 'log2', 'n_estimators': 420}\n",
      "0.7644412502938918 {'criterion': 'gini', 'max_depth': 4, 'max_features': 'log2', 'n_estimators': 430}\n",
      "0.7644412502938918 {'criterion': 'gini', 'max_depth': 4, 'max_features': 'log2', 'n_estimators': 440}\n",
      "0.7644412502938918 {'criterion': 'gini', 'max_depth': 4, 'max_features': 'log2', 'n_estimators': 450}\n",
      "0.7644412502938918 {'criterion': 'gini', 'max_depth': 4, 'max_features': 'log2', 'n_estimators': 460}\n",
      "0.7644412502938918 {'criterion': 'gini', 'max_depth': 4, 'max_features': 'log2', 'n_estimators': 470}\n",
      "0.7644412502938918 {'criterion': 'gini', 'max_depth': 4, 'max_features': 'log2', 'n_estimators': 480}\n",
      "0.7644412502938918 {'criterion': 'gini', 'max_depth': 4, 'max_features': 'log2', 'n_estimators': 490}\n",
      "0.7644412502938918 {'criterion': 'gini', 'max_depth': 4, 'max_features': 'log2', 'n_estimators': 500}\n",
      "0.7644412502938918 {'criterion': 'gini', 'max_depth': 4, 'max_features': 'log2', 'n_estimators': 510}\n",
      "0.7644412502938918 {'criterion': 'gini', 'max_depth': 4, 'max_features': 'log2', 'n_estimators': 520}\n",
      "0.7644412502938918 {'criterion': 'gini', 'max_depth': 4, 'max_features': 'log2', 'n_estimators': 530}\n",
      "0.7644412502938918 {'criterion': 'gini', 'max_depth': 4, 'max_features': 'log2', 'n_estimators': 540}\n",
      "0.7644412502938918 {'criterion': 'gini', 'max_depth': 4, 'max_features': 'log2', 'n_estimators': 550}\n",
      "0.7644412502938918 {'criterion': 'gini', 'max_depth': 4, 'max_features': 'log2', 'n_estimators': 560}\n",
      "0.7644412502938918 {'criterion': 'gini', 'max_depth': 4, 'max_features': 'log2', 'n_estimators': 570}\n",
      "0.7644412502938918 {'criterion': 'gini', 'max_depth': 4, 'max_features': 'log2', 'n_estimators': 580}\n",
      "0.7644412502938918 {'criterion': 'gini', 'max_depth': 4, 'max_features': 'log2', 'n_estimators': 590}\n",
      "0.7644412502938918 {'criterion': 'gini', 'max_depth': 4, 'max_features': 'log2', 'n_estimators': 600}\n",
      "0.7550904642003279 {'criterion': 'gini', 'max_depth': 5, 'max_features': 'auto', 'n_estimators': 400}\n",
      "0.7550904642003279 {'criterion': 'gini', 'max_depth': 5, 'max_features': 'auto', 'n_estimators': 410}\n",
      "0.7550904642003279 {'criterion': 'gini', 'max_depth': 5, 'max_features': 'auto', 'n_estimators': 420}\n",
      "0.7550904642003279 {'criterion': 'gini', 'max_depth': 5, 'max_features': 'auto', 'n_estimators': 430}\n",
      "0.7550904642003279 {'criterion': 'gini', 'max_depth': 5, 'max_features': 'auto', 'n_estimators': 440}\n",
      "0.7538828998348688 {'criterion': 'gini', 'max_depth': 5, 'max_features': 'auto', 'n_estimators': 450}\n",
      "0.7538828998348688 {'criterion': 'gini', 'max_depth': 5, 'max_features': 'auto', 'n_estimators': 460}\n",
      "0.7557854247908289 {'criterion': 'gini', 'max_depth': 5, 'max_features': 'auto', 'n_estimators': 470}\n",
      "0.756992989156288 {'criterion': 'gini', 'max_depth': 5, 'max_features': 'auto', 'n_estimators': 480}\n",
      "0.7550904642003279 {'criterion': 'gini', 'max_depth': 5, 'max_features': 'auto', 'n_estimators': 490}\n",
      "0.7550904642003279 {'criterion': 'gini', 'max_depth': 5, 'max_features': 'auto', 'n_estimators': 500}\n",
      "0.7550904642003279 {'criterion': 'gini', 'max_depth': 5, 'max_features': 'auto', 'n_estimators': 510}\n",
      "0.7550904642003279 {'criterion': 'gini', 'max_depth': 5, 'max_features': 'auto', 'n_estimators': 520}\n",
      "0.7550904642003279 {'criterion': 'gini', 'max_depth': 5, 'max_features': 'auto', 'n_estimators': 530}\n",
      "0.756992989156288 {'criterion': 'gini', 'max_depth': 5, 'max_features': 'auto', 'n_estimators': 540}\n",
      "0.756992989156288 {'criterion': 'gini', 'max_depth': 5, 'max_features': 'auto', 'n_estimators': 550}\n",
      "0.756992989156288 {'criterion': 'gini', 'max_depth': 5, 'max_features': 'auto', 'n_estimators': 560}\n",
      "0.7587929435878213 {'criterion': 'gini', 'max_depth': 5, 'max_features': 'auto', 'n_estimators': 570}\n",
      "0.7587929435878213 {'criterion': 'gini', 'max_depth': 5, 'max_features': 'auto', 'n_estimators': 580}\n",
      "0.7587929435878213 {'criterion': 'gini', 'max_depth': 5, 'max_features': 'auto', 'n_estimators': 590}\n",
      "0.756992989156288 {'criterion': 'gini', 'max_depth': 5, 'max_features': 'auto', 'n_estimators': 600}\n",
      "0.7550904642003279 {'criterion': 'gini', 'max_depth': 5, 'max_features': 'sqrt', 'n_estimators': 400}\n",
      "0.7550904642003279 {'criterion': 'gini', 'max_depth': 5, 'max_features': 'sqrt', 'n_estimators': 410}\n",
      "0.7550904642003279 {'criterion': 'gini', 'max_depth': 5, 'max_features': 'sqrt', 'n_estimators': 420}\n",
      "0.7550904642003279 {'criterion': 'gini', 'max_depth': 5, 'max_features': 'sqrt', 'n_estimators': 430}\n",
      "0.7550904642003279 {'criterion': 'gini', 'max_depth': 5, 'max_features': 'sqrt', 'n_estimators': 440}\n",
      "0.7538828998348688 {'criterion': 'gini', 'max_depth': 5, 'max_features': 'sqrt', 'n_estimators': 450}\n",
      "0.7538828998348688 {'criterion': 'gini', 'max_depth': 5, 'max_features': 'sqrt', 'n_estimators': 460}\n",
      "0.7557854247908289 {'criterion': 'gini', 'max_depth': 5, 'max_features': 'sqrt', 'n_estimators': 470}\n",
      "0.756992989156288 {'criterion': 'gini', 'max_depth': 5, 'max_features': 'sqrt', 'n_estimators': 480}\n",
      "0.7550904642003279 {'criterion': 'gini', 'max_depth': 5, 'max_features': 'sqrt', 'n_estimators': 490}\n",
      "0.7550904642003279 {'criterion': 'gini', 'max_depth': 5, 'max_features': 'sqrt', 'n_estimators': 500}\n",
      "0.7550904642003279 {'criterion': 'gini', 'max_depth': 5, 'max_features': 'sqrt', 'n_estimators': 510}\n",
      "0.7550904642003279 {'criterion': 'gini', 'max_depth': 5, 'max_features': 'sqrt', 'n_estimators': 520}\n",
      "0.7550904642003279 {'criterion': 'gini', 'max_depth': 5, 'max_features': 'sqrt', 'n_estimators': 530}\n",
      "0.756992989156288 {'criterion': 'gini', 'max_depth': 5, 'max_features': 'sqrt', 'n_estimators': 540}\n",
      "0.756992989156288 {'criterion': 'gini', 'max_depth': 5, 'max_features': 'sqrt', 'n_estimators': 550}\n",
      "0.756992989156288 {'criterion': 'gini', 'max_depth': 5, 'max_features': 'sqrt', 'n_estimators': 560}\n",
      "0.7587929435878213 {'criterion': 'gini', 'max_depth': 5, 'max_features': 'sqrt', 'n_estimators': 570}\n",
      "0.7587929435878213 {'criterion': 'gini', 'max_depth': 5, 'max_features': 'sqrt', 'n_estimators': 580}\n",
      "0.7587929435878213 {'criterion': 'gini', 'max_depth': 5, 'max_features': 'sqrt', 'n_estimators': 590}\n",
      "0.756992989156288 {'criterion': 'gini', 'max_depth': 5, 'max_features': 'sqrt', 'n_estimators': 600}\n",
      "0.7550904642003279 {'criterion': 'gini', 'max_depth': 5, 'max_features': 'log2', 'n_estimators': 400}\n",
      "0.7550904642003279 {'criterion': 'gini', 'max_depth': 5, 'max_features': 'log2', 'n_estimators': 410}\n",
      "0.7550904642003279 {'criterion': 'gini', 'max_depth': 5, 'max_features': 'log2', 'n_estimators': 420}\n",
      "0.7550904642003279 {'criterion': 'gini', 'max_depth': 5, 'max_features': 'log2', 'n_estimators': 430}\n",
      "0.7550904642003279 {'criterion': 'gini', 'max_depth': 5, 'max_features': 'log2', 'n_estimators': 440}\n",
      "0.7538828998348688 {'criterion': 'gini', 'max_depth': 5, 'max_features': 'log2', 'n_estimators': 450}\n",
      "0.7538828998348688 {'criterion': 'gini', 'max_depth': 5, 'max_features': 'log2', 'n_estimators': 460}\n",
      "0.7557854247908289 {'criterion': 'gini', 'max_depth': 5, 'max_features': 'log2', 'n_estimators': 470}\n",
      "0.756992989156288 {'criterion': 'gini', 'max_depth': 5, 'max_features': 'log2', 'n_estimators': 480}\n",
      "0.7550904642003279 {'criterion': 'gini', 'max_depth': 5, 'max_features': 'log2', 'n_estimators': 490}\n",
      "0.7550904642003279 {'criterion': 'gini', 'max_depth': 5, 'max_features': 'log2', 'n_estimators': 500}\n",
      "0.7550904642003279 {'criterion': 'gini', 'max_depth': 5, 'max_features': 'log2', 'n_estimators': 510}\n",
      "0.7550904642003279 {'criterion': 'gini', 'max_depth': 5, 'max_features': 'log2', 'n_estimators': 520}\n",
      "0.7550904642003279 {'criterion': 'gini', 'max_depth': 5, 'max_features': 'log2', 'n_estimators': 530}\n",
      "0.756992989156288 {'criterion': 'gini', 'max_depth': 5, 'max_features': 'log2', 'n_estimators': 540}\n",
      "0.756992989156288 {'criterion': 'gini', 'max_depth': 5, 'max_features': 'log2', 'n_estimators': 550}\n",
      "0.756992989156288 {'criterion': 'gini', 'max_depth': 5, 'max_features': 'log2', 'n_estimators': 560}\n",
      "0.7587929435878213 {'criterion': 'gini', 'max_depth': 5, 'max_features': 'log2', 'n_estimators': 570}\n",
      "0.7587929435878213 {'criterion': 'gini', 'max_depth': 5, 'max_features': 'log2', 'n_estimators': 580}\n",
      "0.7587929435878213 {'criterion': 'gini', 'max_depth': 5, 'max_features': 'log2', 'n_estimators': 590}\n",
      "0.756992989156288 {'criterion': 'gini', 'max_depth': 5, 'max_features': 'log2', 'n_estimators': 600}\n",
      "0.7478153629316421 {'criterion': 'gini', 'max_depth': 6, 'max_features': 'auto', 'n_estimators': 400}\n",
      "0.749002378435518 {'criterion': 'gini', 'max_depth': 6, 'max_features': 'auto', 'n_estimators': 410}\n",
      "0.7478153629316421 {'criterion': 'gini', 'max_depth': 6, 'max_features': 'auto', 'n_estimators': 420}\n",
      "0.7478153629316421 {'criterion': 'gini', 'max_depth': 6, 'max_features': 'auto', 'n_estimators': 430}\n",
      "0.749002378435518 {'criterion': 'gini', 'max_depth': 6, 'max_features': 'auto', 'n_estimators': 440}\n",
      "0.749002378435518 {'criterion': 'gini', 'max_depth': 6, 'max_features': 'auto', 'n_estimators': 450}\n",
      "0.7477948140700589 {'criterion': 'gini', 'max_depth': 6, 'max_features': 'auto', 'n_estimators': 460}\n",
      "0.749002378435518 {'criterion': 'gini', 'max_depth': 6, 'max_features': 'auto', 'n_estimators': 470}\n",
      "0.749002378435518 {'criterion': 'gini', 'max_depth': 6, 'max_features': 'auto', 'n_estimators': 480}\n",
      "0.749002378435518 {'criterion': 'gini', 'max_depth': 6, 'max_features': 'auto', 'n_estimators': 490}\n",
      "0.749002378435518 {'criterion': 'gini', 'max_depth': 6, 'max_features': 'auto', 'n_estimators': 500}\n",
      "0.749002378435518 {'criterion': 'gini', 'max_depth': 6, 'max_features': 'auto', 'n_estimators': 510}\n",
      "0.7478153629316421 {'criterion': 'gini', 'max_depth': 6, 'max_features': 'auto', 'n_estimators': 520}\n",
      "0.7501342035113522 {'criterion': 'gini', 'max_depth': 6, 'max_features': 'auto', 'n_estimators': 530}\n",
      "0.7501342035113522 {'criterion': 'gini', 'max_depth': 6, 'max_features': 'auto', 'n_estimators': 540}\n",
      "0.7489266391458931 {'criterion': 'gini', 'max_depth': 6, 'max_features': 'auto', 'n_estimators': 550}\n",
      "0.7489266391458931 {'criterion': 'gini', 'max_depth': 6, 'max_features': 'auto', 'n_estimators': 560}\n",
      "0.7489266391458931 {'criterion': 'gini', 'max_depth': 6, 'max_features': 'auto', 'n_estimators': 570}\n",
      "0.7489266391458931 {'criterion': 'gini', 'max_depth': 6, 'max_features': 'auto', 'n_estimators': 580}\n",
      "0.7489266391458931 {'criterion': 'gini', 'max_depth': 6, 'max_features': 'auto', 'n_estimators': 590}\n",
      "0.7489266391458931 {'criterion': 'gini', 'max_depth': 6, 'max_features': 'auto', 'n_estimators': 600}\n",
      "0.7478153629316421 {'criterion': 'gini', 'max_depth': 6, 'max_features': 'sqrt', 'n_estimators': 400}\n",
      "0.749002378435518 {'criterion': 'gini', 'max_depth': 6, 'max_features': 'sqrt', 'n_estimators': 410}\n",
      "0.7478153629316421 {'criterion': 'gini', 'max_depth': 6, 'max_features': 'sqrt', 'n_estimators': 420}\n",
      "0.7478153629316421 {'criterion': 'gini', 'max_depth': 6, 'max_features': 'sqrt', 'n_estimators': 430}\n",
      "0.749002378435518 {'criterion': 'gini', 'max_depth': 6, 'max_features': 'sqrt', 'n_estimators': 440}\n",
      "0.749002378435518 {'criterion': 'gini', 'max_depth': 6, 'max_features': 'sqrt', 'n_estimators': 450}\n",
      "0.7477948140700589 {'criterion': 'gini', 'max_depth': 6, 'max_features': 'sqrt', 'n_estimators': 460}\n",
      "0.749002378435518 {'criterion': 'gini', 'max_depth': 6, 'max_features': 'sqrt', 'n_estimators': 470}\n",
      "0.749002378435518 {'criterion': 'gini', 'max_depth': 6, 'max_features': 'sqrt', 'n_estimators': 480}\n",
      "0.749002378435518 {'criterion': 'gini', 'max_depth': 6, 'max_features': 'sqrt', 'n_estimators': 490}\n",
      "0.749002378435518 {'criterion': 'gini', 'max_depth': 6, 'max_features': 'sqrt', 'n_estimators': 500}\n",
      "0.749002378435518 {'criterion': 'gini', 'max_depth': 6, 'max_features': 'sqrt', 'n_estimators': 510}\n",
      "0.7478153629316421 {'criterion': 'gini', 'max_depth': 6, 'max_features': 'sqrt', 'n_estimators': 520}\n",
      "0.7501342035113522 {'criterion': 'gini', 'max_depth': 6, 'max_features': 'sqrt', 'n_estimators': 530}\n",
      "0.7501342035113522 {'criterion': 'gini', 'max_depth': 6, 'max_features': 'sqrt', 'n_estimators': 540}\n",
      "0.7489266391458931 {'criterion': 'gini', 'max_depth': 6, 'max_features': 'sqrt', 'n_estimators': 550}\n",
      "0.7489266391458931 {'criterion': 'gini', 'max_depth': 6, 'max_features': 'sqrt', 'n_estimators': 560}\n",
      "0.7489266391458931 {'criterion': 'gini', 'max_depth': 6, 'max_features': 'sqrt', 'n_estimators': 570}\n",
      "0.7489266391458931 {'criterion': 'gini', 'max_depth': 6, 'max_features': 'sqrt', 'n_estimators': 580}\n",
      "0.7489266391458931 {'criterion': 'gini', 'max_depth': 6, 'max_features': 'sqrt', 'n_estimators': 590}\n",
      "0.7489266391458931 {'criterion': 'gini', 'max_depth': 6, 'max_features': 'sqrt', 'n_estimators': 600}\n",
      "0.7478153629316421 {'criterion': 'gini', 'max_depth': 6, 'max_features': 'log2', 'n_estimators': 400}\n",
      "0.749002378435518 {'criterion': 'gini', 'max_depth': 6, 'max_features': 'log2', 'n_estimators': 410}\n",
      "0.7478153629316421 {'criterion': 'gini', 'max_depth': 6, 'max_features': 'log2', 'n_estimators': 420}\n",
      "0.7478153629316421 {'criterion': 'gini', 'max_depth': 6, 'max_features': 'log2', 'n_estimators': 430}\n",
      "0.749002378435518 {'criterion': 'gini', 'max_depth': 6, 'max_features': 'log2', 'n_estimators': 440}\n",
      "0.749002378435518 {'criterion': 'gini', 'max_depth': 6, 'max_features': 'log2', 'n_estimators': 450}\n",
      "0.7477948140700589 {'criterion': 'gini', 'max_depth': 6, 'max_features': 'log2', 'n_estimators': 460}\n",
      "0.749002378435518 {'criterion': 'gini', 'max_depth': 6, 'max_features': 'log2', 'n_estimators': 470}\n",
      "0.749002378435518 {'criterion': 'gini', 'max_depth': 6, 'max_features': 'log2', 'n_estimators': 480}\n",
      "0.749002378435518 {'criterion': 'gini', 'max_depth': 6, 'max_features': 'log2', 'n_estimators': 490}\n",
      "0.749002378435518 {'criterion': 'gini', 'max_depth': 6, 'max_features': 'log2', 'n_estimators': 500}\n",
      "0.749002378435518 {'criterion': 'gini', 'max_depth': 6, 'max_features': 'log2', 'n_estimators': 510}\n",
      "0.7478153629316421 {'criterion': 'gini', 'max_depth': 6, 'max_features': 'log2', 'n_estimators': 520}\n",
      "0.7501342035113522 {'criterion': 'gini', 'max_depth': 6, 'max_features': 'log2', 'n_estimators': 530}\n",
      "0.7501342035113522 {'criterion': 'gini', 'max_depth': 6, 'max_features': 'log2', 'n_estimators': 540}\n",
      "0.7489266391458931 {'criterion': 'gini', 'max_depth': 6, 'max_features': 'log2', 'n_estimators': 550}\n",
      "0.7489266391458931 {'criterion': 'gini', 'max_depth': 6, 'max_features': 'log2', 'n_estimators': 560}\n",
      "0.7489266391458931 {'criterion': 'gini', 'max_depth': 6, 'max_features': 'log2', 'n_estimators': 570}\n",
      "0.7489266391458931 {'criterion': 'gini', 'max_depth': 6, 'max_features': 'log2', 'n_estimators': 580}\n",
      "0.7489266391458931 {'criterion': 'gini', 'max_depth': 6, 'max_features': 'log2', 'n_estimators': 590}\n",
      "0.7489266391458931 {'criterion': 'gini', 'max_depth': 6, 'max_features': 'log2', 'n_estimators': 600}\n",
      "0.7517584963334281 {'criterion': 'gini', 'max_depth': 7, 'max_features': 'auto', 'n_estimators': 400}\n",
      "0.7517584963334281 {'criterion': 'gini', 'max_depth': 7, 'max_features': 'auto', 'n_estimators': 410}\n",
      "0.7505336494392899 {'criterion': 'gini', 'max_depth': 7, 'max_features': 'auto', 'n_estimators': 420}\n",
      "0.7482547888695747 {'criterion': 'gini', 'max_depth': 7, 'max_features': 'auto', 'n_estimators': 430}\n",
      "0.7482547888695747 {'criterion': 'gini', 'max_depth': 7, 'max_features': 'auto', 'n_estimators': 440}\n",
      "0.7470808498998824 {'criterion': 'gini', 'max_depth': 7, 'max_features': 'auto', 'n_estimators': 450}\n",
      "0.7470808498998824 {'criterion': 'gini', 'max_depth': 7, 'max_features': 'auto', 'n_estimators': 460}\n",
      "0.743961195134009 {'criterion': 'gini', 'max_depth': 7, 'max_features': 'auto', 'n_estimators': 470}\n",
      "0.7471607951840028 {'criterion': 'gini', 'max_depth': 7, 'max_features': 'auto', 'n_estimators': 480}\n",
      "0.7459359482898646 {'criterion': 'gini', 'max_depth': 7, 'max_features': 'auto', 'n_estimators': 490}\n",
      "0.7459359482898646 {'criterion': 'gini', 'max_depth': 7, 'max_features': 'auto', 'n_estimators': 500}\n",
      "0.7459359482898646 {'criterion': 'gini', 'max_depth': 7, 'max_features': 'auto', 'n_estimators': 510}\n",
      "0.747861961208244 {'criterion': 'gini', 'max_depth': 7, 'max_features': 'auto', 'n_estimators': 520}\n",
      "0.747861961208244 {'criterion': 'gini', 'max_depth': 7, 'max_features': 'auto', 'n_estimators': 530}\n",
      "0.747861961208244 {'criterion': 'gini', 'max_depth': 7, 'max_features': 'auto', 'n_estimators': 540}\n",
      "0.747861961208244 {'criterion': 'gini', 'max_depth': 7, 'max_features': 'auto', 'n_estimators': 550}\n",
      "0.7501808017879541 {'criterion': 'gini', 'max_depth': 7, 'max_features': 'auto', 'n_estimators': 560}\n",
      "0.7505336494392899 {'criterion': 'gini', 'max_depth': 7, 'max_features': 'auto', 'n_estimators': 570}\n",
      "0.7505336494392899 {'criterion': 'gini', 'max_depth': 7, 'max_features': 'auto', 'n_estimators': 580}\n",
      "0.7527735551274715 {'criterion': 'gini', 'max_depth': 7, 'max_features': 'auto', 'n_estimators': 590}\n",
      "0.7529660606988873 {'criterion': 'gini', 'max_depth': 7, 'max_features': 'auto', 'n_estimators': 600}\n",
      "0.7517584963334281 {'criterion': 'gini', 'max_depth': 7, 'max_features': 'sqrt', 'n_estimators': 400}\n",
      "0.7517584963334281 {'criterion': 'gini', 'max_depth': 7, 'max_features': 'sqrt', 'n_estimators': 410}\n",
      "0.7505336494392899 {'criterion': 'gini', 'max_depth': 7, 'max_features': 'sqrt', 'n_estimators': 420}\n",
      "0.7482547888695747 {'criterion': 'gini', 'max_depth': 7, 'max_features': 'sqrt', 'n_estimators': 430}\n",
      "0.7482547888695747 {'criterion': 'gini', 'max_depth': 7, 'max_features': 'sqrt', 'n_estimators': 440}\n",
      "0.7470808498998824 {'criterion': 'gini', 'max_depth': 7, 'max_features': 'sqrt', 'n_estimators': 450}\n",
      "0.7470808498998824 {'criterion': 'gini', 'max_depth': 7, 'max_features': 'sqrt', 'n_estimators': 460}\n",
      "0.743961195134009 {'criterion': 'gini', 'max_depth': 7, 'max_features': 'sqrt', 'n_estimators': 470}\n",
      "0.7471607951840028 {'criterion': 'gini', 'max_depth': 7, 'max_features': 'sqrt', 'n_estimators': 480}\n",
      "0.7459359482898646 {'criterion': 'gini', 'max_depth': 7, 'max_features': 'sqrt', 'n_estimators': 490}\n",
      "0.7459359482898646 {'criterion': 'gini', 'max_depth': 7, 'max_features': 'sqrt', 'n_estimators': 500}\n",
      "0.7459359482898646 {'criterion': 'gini', 'max_depth': 7, 'max_features': 'sqrt', 'n_estimators': 510}\n",
      "0.747861961208244 {'criterion': 'gini', 'max_depth': 7, 'max_features': 'sqrt', 'n_estimators': 520}\n",
      "0.747861961208244 {'criterion': 'gini', 'max_depth': 7, 'max_features': 'sqrt', 'n_estimators': 530}\n",
      "0.747861961208244 {'criterion': 'gini', 'max_depth': 7, 'max_features': 'sqrt', 'n_estimators': 540}\n",
      "0.747861961208244 {'criterion': 'gini', 'max_depth': 7, 'max_features': 'sqrt', 'n_estimators': 550}\n",
      "0.7501808017879541 {'criterion': 'gini', 'max_depth': 7, 'max_features': 'sqrt', 'n_estimators': 560}\n",
      "0.7505336494392899 {'criterion': 'gini', 'max_depth': 7, 'max_features': 'sqrt', 'n_estimators': 570}\n",
      "0.7505336494392899 {'criterion': 'gini', 'max_depth': 7, 'max_features': 'sqrt', 'n_estimators': 580}\n",
      "0.7527735551274715 {'criterion': 'gini', 'max_depth': 7, 'max_features': 'sqrt', 'n_estimators': 590}\n",
      "0.7529660606988873 {'criterion': 'gini', 'max_depth': 7, 'max_features': 'sqrt', 'n_estimators': 600}\n",
      "0.7517584963334281 {'criterion': 'gini', 'max_depth': 7, 'max_features': 'log2', 'n_estimators': 400}\n",
      "0.7517584963334281 {'criterion': 'gini', 'max_depth': 7, 'max_features': 'log2', 'n_estimators': 410}\n",
      "0.7505336494392899 {'criterion': 'gini', 'max_depth': 7, 'max_features': 'log2', 'n_estimators': 420}\n",
      "0.7482547888695747 {'criterion': 'gini', 'max_depth': 7, 'max_features': 'log2', 'n_estimators': 430}\n",
      "0.7482547888695747 {'criterion': 'gini', 'max_depth': 7, 'max_features': 'log2', 'n_estimators': 440}\n",
      "0.7470808498998824 {'criterion': 'gini', 'max_depth': 7, 'max_features': 'log2', 'n_estimators': 450}\n",
      "0.7470808498998824 {'criterion': 'gini', 'max_depth': 7, 'max_features': 'log2', 'n_estimators': 460}\n",
      "0.743961195134009 {'criterion': 'gini', 'max_depth': 7, 'max_features': 'log2', 'n_estimators': 470}\n",
      "0.7471607951840028 {'criterion': 'gini', 'max_depth': 7, 'max_features': 'log2', 'n_estimators': 480}\n",
      "0.7459359482898646 {'criterion': 'gini', 'max_depth': 7, 'max_features': 'log2', 'n_estimators': 490}\n",
      "0.7459359482898646 {'criterion': 'gini', 'max_depth': 7, 'max_features': 'log2', 'n_estimators': 500}\n",
      "0.7459359482898646 {'criterion': 'gini', 'max_depth': 7, 'max_features': 'log2', 'n_estimators': 510}\n",
      "0.747861961208244 {'criterion': 'gini', 'max_depth': 7, 'max_features': 'log2', 'n_estimators': 520}\n",
      "0.747861961208244 {'criterion': 'gini', 'max_depth': 7, 'max_features': 'log2', 'n_estimators': 530}\n",
      "0.747861961208244 {'criterion': 'gini', 'max_depth': 7, 'max_features': 'log2', 'n_estimators': 540}\n",
      "0.747861961208244 {'criterion': 'gini', 'max_depth': 7, 'max_features': 'log2', 'n_estimators': 550}\n",
      "0.7501808017879541 {'criterion': 'gini', 'max_depth': 7, 'max_features': 'log2', 'n_estimators': 560}\n",
      "0.7505336494392899 {'criterion': 'gini', 'max_depth': 7, 'max_features': 'log2', 'n_estimators': 570}\n",
      "0.7505336494392899 {'criterion': 'gini', 'max_depth': 7, 'max_features': 'log2', 'n_estimators': 580}\n",
      "0.7527735551274715 {'criterion': 'gini', 'max_depth': 7, 'max_features': 'log2', 'n_estimators': 590}\n",
      "0.7529660606988873 {'criterion': 'gini', 'max_depth': 7, 'max_features': 'log2', 'n_estimators': 600}\n",
      "0.7524790255566647 {'criterion': 'gini', 'max_depth': 8, 'max_features': 'auto', 'n_estimators': 400}\n",
      "0.7493137599371619 {'criterion': 'gini', 'max_depth': 8, 'max_features': 'auto', 'n_estimators': 410}\n",
      "0.7513201091435111 {'criterion': 'gini', 'max_depth': 8, 'max_features': 'auto', 'n_estimators': 420}\n",
      "0.7511624539727328 {'criterion': 'gini', 'max_depth': 8, 'max_features': 'auto', 'n_estimators': 430}\n",
      "0.7493137599371619 {'criterion': 'gini', 'max_depth': 8, 'max_features': 'auto', 'n_estimators': 440}\n",
      "0.75160009854644 {'criterion': 'gini', 'max_depth': 8, 'max_features': 'auto', 'n_estimators': 450}\n",
      "0.75160009854644 {'criterion': 'gini', 'max_depth': 8, 'max_features': 'auto', 'n_estimators': 460}\n",
      "0.75160009854644 {'criterion': 'gini', 'max_depth': 8, 'max_features': 'auto', 'n_estimators': 470}\n",
      "0.7492651119848566 {'criterion': 'gini', 'max_depth': 8, 'max_features': 'auto', 'n_estimators': 480}\n",
      "0.7504726763503157 {'criterion': 'gini', 'max_depth': 8, 'max_features': 'auto', 'n_estimators': 490}\n",
      "0.7516515740809375 {'criterion': 'gini', 'max_depth': 8, 'max_features': 'auto', 'n_estimators': 500}\n",
      "0.7504726763503157 {'criterion': 'gini', 'max_depth': 8, 'max_features': 'auto', 'n_estimators': 510}\n",
      "0.7524790255566647 {'criterion': 'gini', 'max_depth': 8, 'max_features': 'auto', 'n_estimators': 520}\n",
      "0.7524790255566647 {'criterion': 'gini', 'max_depth': 8, 'max_features': 'auto', 'n_estimators': 530}\n",
      "0.7536579232872866 {'criterion': 'gini', 'max_depth': 8, 'max_features': 'auto', 'n_estimators': 540}\n",
      "0.7524790255566647 {'criterion': 'gini', 'max_depth': 8, 'max_features': 'auto', 'n_estimators': 550}\n",
      "0.751368685515027 {'criterion': 'gini', 'max_depth': 8, 'max_features': 'auto', 'n_estimators': 560}\n",
      "0.751368685515027 {'criterion': 'gini', 'max_depth': 8, 'max_features': 'auto', 'n_estimators': 570}\n",
      "0.7524790255566647 {'criterion': 'gini', 'max_depth': 8, 'max_features': 'auto', 'n_estimators': 580}\n",
      "0.7493623363086779 {'criterion': 'gini', 'max_depth': 8, 'max_features': 'auto', 'n_estimators': 590}\n",
      "0.751368685515027 {'criterion': 'gini', 'max_depth': 8, 'max_features': 'auto', 'n_estimators': 600}\n",
      "0.7524790255566647 {'criterion': 'gini', 'max_depth': 8, 'max_features': 'sqrt', 'n_estimators': 400}\n",
      "0.7493137599371619 {'criterion': 'gini', 'max_depth': 8, 'max_features': 'sqrt', 'n_estimators': 410}\n",
      "0.7513201091435111 {'criterion': 'gini', 'max_depth': 8, 'max_features': 'sqrt', 'n_estimators': 420}\n",
      "0.7511624539727328 {'criterion': 'gini', 'max_depth': 8, 'max_features': 'sqrt', 'n_estimators': 430}\n",
      "0.7493137599371619 {'criterion': 'gini', 'max_depth': 8, 'max_features': 'sqrt', 'n_estimators': 440}\n",
      "0.75160009854644 {'criterion': 'gini', 'max_depth': 8, 'max_features': 'sqrt', 'n_estimators': 450}\n",
      "0.75160009854644 {'criterion': 'gini', 'max_depth': 8, 'max_features': 'sqrt', 'n_estimators': 460}\n",
      "0.75160009854644 {'criterion': 'gini', 'max_depth': 8, 'max_features': 'sqrt', 'n_estimators': 470}\n",
      "0.7492651119848566 {'criterion': 'gini', 'max_depth': 8, 'max_features': 'sqrt', 'n_estimators': 480}\n",
      "0.7504726763503157 {'criterion': 'gini', 'max_depth': 8, 'max_features': 'sqrt', 'n_estimators': 490}\n",
      "0.7516515740809375 {'criterion': 'gini', 'max_depth': 8, 'max_features': 'sqrt', 'n_estimators': 500}\n",
      "0.7504726763503157 {'criterion': 'gini', 'max_depth': 8, 'max_features': 'sqrt', 'n_estimators': 510}\n",
      "0.7524790255566647 {'criterion': 'gini', 'max_depth': 8, 'max_features': 'sqrt', 'n_estimators': 520}\n",
      "0.7524790255566647 {'criterion': 'gini', 'max_depth': 8, 'max_features': 'sqrt', 'n_estimators': 530}\n",
      "0.7536579232872866 {'criterion': 'gini', 'max_depth': 8, 'max_features': 'sqrt', 'n_estimators': 540}\n",
      "0.7524790255566647 {'criterion': 'gini', 'max_depth': 8, 'max_features': 'sqrt', 'n_estimators': 550}\n",
      "0.751368685515027 {'criterion': 'gini', 'max_depth': 8, 'max_features': 'sqrt', 'n_estimators': 560}\n",
      "0.751368685515027 {'criterion': 'gini', 'max_depth': 8, 'max_features': 'sqrt', 'n_estimators': 570}\n",
      "0.7524790255566647 {'criterion': 'gini', 'max_depth': 8, 'max_features': 'sqrt', 'n_estimators': 580}\n",
      "0.7493623363086779 {'criterion': 'gini', 'max_depth': 8, 'max_features': 'sqrt', 'n_estimators': 590}\n",
      "0.751368685515027 {'criterion': 'gini', 'max_depth': 8, 'max_features': 'sqrt', 'n_estimators': 600}\n",
      "0.7524790255566647 {'criterion': 'gini', 'max_depth': 8, 'max_features': 'log2', 'n_estimators': 400}\n",
      "0.7493137599371619 {'criterion': 'gini', 'max_depth': 8, 'max_features': 'log2', 'n_estimators': 410}\n",
      "0.7513201091435111 {'criterion': 'gini', 'max_depth': 8, 'max_features': 'log2', 'n_estimators': 420}\n",
      "0.7511624539727328 {'criterion': 'gini', 'max_depth': 8, 'max_features': 'log2', 'n_estimators': 430}\n",
      "0.7493137599371619 {'criterion': 'gini', 'max_depth': 8, 'max_features': 'log2', 'n_estimators': 440}\n",
      "0.75160009854644 {'criterion': 'gini', 'max_depth': 8, 'max_features': 'log2', 'n_estimators': 450}\n",
      "0.75160009854644 {'criterion': 'gini', 'max_depth': 8, 'max_features': 'log2', 'n_estimators': 460}\n",
      "0.75160009854644 {'criterion': 'gini', 'max_depth': 8, 'max_features': 'log2', 'n_estimators': 470}\n",
      "0.7492651119848566 {'criterion': 'gini', 'max_depth': 8, 'max_features': 'log2', 'n_estimators': 480}\n",
      "0.7504726763503157 {'criterion': 'gini', 'max_depth': 8, 'max_features': 'log2', 'n_estimators': 490}\n",
      "0.7516515740809375 {'criterion': 'gini', 'max_depth': 8, 'max_features': 'log2', 'n_estimators': 500}\n",
      "0.7504726763503157 {'criterion': 'gini', 'max_depth': 8, 'max_features': 'log2', 'n_estimators': 510}\n",
      "0.7524790255566647 {'criterion': 'gini', 'max_depth': 8, 'max_features': 'log2', 'n_estimators': 520}\n",
      "0.7524790255566647 {'criterion': 'gini', 'max_depth': 8, 'max_features': 'log2', 'n_estimators': 530}\n",
      "0.7536579232872866 {'criterion': 'gini', 'max_depth': 8, 'max_features': 'log2', 'n_estimators': 540}\n",
      "0.7524790255566647 {'criterion': 'gini', 'max_depth': 8, 'max_features': 'log2', 'n_estimators': 550}\n",
      "0.751368685515027 {'criterion': 'gini', 'max_depth': 8, 'max_features': 'log2', 'n_estimators': 560}\n",
      "0.751368685515027 {'criterion': 'gini', 'max_depth': 8, 'max_features': 'log2', 'n_estimators': 570}\n",
      "0.7524790255566647 {'criterion': 'gini', 'max_depth': 8, 'max_features': 'log2', 'n_estimators': 580}\n",
      "0.7493623363086779 {'criterion': 'gini', 'max_depth': 8, 'max_features': 'log2', 'n_estimators': 590}\n",
      "0.751368685515027 {'criterion': 'gini', 'max_depth': 8, 'max_features': 'log2', 'n_estimators': 600}\n",
      "0.7453011335363154 {'criterion': 'entropy', 'max_depth': 3, 'max_features': 'auto', 'n_estimators': 400}\n",
      "0.7453011335363154 {'criterion': 'entropy', 'max_depth': 3, 'max_features': 'auto', 'n_estimators': 410}\n",
      "0.7453011335363154 {'criterion': 'entropy', 'max_depth': 3, 'max_features': 'auto', 'n_estimators': 420}\n",
      "0.7453011335363154 {'criterion': 'entropy', 'max_depth': 3, 'max_features': 'auto', 'n_estimators': 430}\n",
      "0.7453011335363154 {'criterion': 'entropy', 'max_depth': 3, 'max_features': 'auto', 'n_estimators': 440}\n",
      "0.7453011335363154 {'criterion': 'entropy', 'max_depth': 3, 'max_features': 'auto', 'n_estimators': 450}\n",
      "0.7453011335363154 {'criterion': 'entropy', 'max_depth': 3, 'max_features': 'auto', 'n_estimators': 460}\n",
      "0.7434328264048504 {'criterion': 'entropy', 'max_depth': 3, 'max_features': 'auto', 'n_estimators': 470}\n",
      "0.7412166346364198 {'criterion': 'entropy', 'max_depth': 3, 'max_features': 'auto', 'n_estimators': 480}\n",
      "0.7434328264048504 {'criterion': 'entropy', 'max_depth': 3, 'max_features': 'auto', 'n_estimators': 490}\n",
      "0.7412166346364198 {'criterion': 'entropy', 'max_depth': 3, 'max_features': 'auto', 'n_estimators': 500}\n",
      "0.7412166346364198 {'criterion': 'entropy', 'max_depth': 3, 'max_features': 'auto', 'n_estimators': 510}\n",
      "0.7412166346364198 {'criterion': 'entropy', 'max_depth': 3, 'max_features': 'auto', 'n_estimators': 520}\n",
      "0.7430849417678849 {'criterion': 'entropy', 'max_depth': 3, 'max_features': 'auto', 'n_estimators': 530}\n",
      "0.7430849417678849 {'criterion': 'entropy', 'max_depth': 3, 'max_features': 'auto', 'n_estimators': 540}\n",
      "0.7430849417678849 {'criterion': 'entropy', 'max_depth': 3, 'max_features': 'auto', 'n_estimators': 550}\n",
      "0.7430849417678849 {'criterion': 'entropy', 'max_depth': 3, 'max_features': 'auto', 'n_estimators': 560}\n",
      "0.7430849417678849 {'criterion': 'entropy', 'max_depth': 3, 'max_features': 'auto', 'n_estimators': 570}\n",
      "0.7430849417678849 {'criterion': 'entropy', 'max_depth': 3, 'max_features': 'auto', 'n_estimators': 580}\n",
      "0.7430849417678849 {'criterion': 'entropy', 'max_depth': 3, 'max_features': 'auto', 'n_estimators': 590}\n",
      "0.7430849417678849 {'criterion': 'entropy', 'max_depth': 3, 'max_features': 'auto', 'n_estimators': 600}\n",
      "0.7453011335363154 {'criterion': 'entropy', 'max_depth': 3, 'max_features': 'sqrt', 'n_estimators': 400}\n",
      "0.7453011335363154 {'criterion': 'entropy', 'max_depth': 3, 'max_features': 'sqrt', 'n_estimators': 410}\n",
      "0.7453011335363154 {'criterion': 'entropy', 'max_depth': 3, 'max_features': 'sqrt', 'n_estimators': 420}\n",
      "0.7453011335363154 {'criterion': 'entropy', 'max_depth': 3, 'max_features': 'sqrt', 'n_estimators': 430}\n",
      "0.7453011335363154 {'criterion': 'entropy', 'max_depth': 3, 'max_features': 'sqrt', 'n_estimators': 440}\n",
      "0.7453011335363154 {'criterion': 'entropy', 'max_depth': 3, 'max_features': 'sqrt', 'n_estimators': 450}\n",
      "0.7453011335363154 {'criterion': 'entropy', 'max_depth': 3, 'max_features': 'sqrt', 'n_estimators': 460}\n",
      "0.7434328264048504 {'criterion': 'entropy', 'max_depth': 3, 'max_features': 'sqrt', 'n_estimators': 470}\n",
      "0.7412166346364198 {'criterion': 'entropy', 'max_depth': 3, 'max_features': 'sqrt', 'n_estimators': 480}\n",
      "0.7434328264048504 {'criterion': 'entropy', 'max_depth': 3, 'max_features': 'sqrt', 'n_estimators': 490}\n",
      "0.7412166346364198 {'criterion': 'entropy', 'max_depth': 3, 'max_features': 'sqrt', 'n_estimators': 500}\n",
      "0.7412166346364198 {'criterion': 'entropy', 'max_depth': 3, 'max_features': 'sqrt', 'n_estimators': 510}\n",
      "0.7412166346364198 {'criterion': 'entropy', 'max_depth': 3, 'max_features': 'sqrt', 'n_estimators': 520}\n",
      "0.7430849417678849 {'criterion': 'entropy', 'max_depth': 3, 'max_features': 'sqrt', 'n_estimators': 530}\n",
      "0.7430849417678849 {'criterion': 'entropy', 'max_depth': 3, 'max_features': 'sqrt', 'n_estimators': 540}\n",
      "0.7430849417678849 {'criterion': 'entropy', 'max_depth': 3, 'max_features': 'sqrt', 'n_estimators': 550}\n",
      "0.7430849417678849 {'criterion': 'entropy', 'max_depth': 3, 'max_features': 'sqrt', 'n_estimators': 560}\n",
      "0.7430849417678849 {'criterion': 'entropy', 'max_depth': 3, 'max_features': 'sqrt', 'n_estimators': 570}\n",
      "0.7430849417678849 {'criterion': 'entropy', 'max_depth': 3, 'max_features': 'sqrt', 'n_estimators': 580}\n",
      "0.7430849417678849 {'criterion': 'entropy', 'max_depth': 3, 'max_features': 'sqrt', 'n_estimators': 590}\n",
      "0.7430849417678849 {'criterion': 'entropy', 'max_depth': 3, 'max_features': 'sqrt', 'n_estimators': 600}\n",
      "0.7453011335363154 {'criterion': 'entropy', 'max_depth': 3, 'max_features': 'log2', 'n_estimators': 400}\n",
      "0.7453011335363154 {'criterion': 'entropy', 'max_depth': 3, 'max_features': 'log2', 'n_estimators': 410}\n",
      "0.7453011335363154 {'criterion': 'entropy', 'max_depth': 3, 'max_features': 'log2', 'n_estimators': 420}\n",
      "0.7453011335363154 {'criterion': 'entropy', 'max_depth': 3, 'max_features': 'log2', 'n_estimators': 430}\n",
      "0.7453011335363154 {'criterion': 'entropy', 'max_depth': 3, 'max_features': 'log2', 'n_estimators': 440}\n",
      "0.7453011335363154 {'criterion': 'entropy', 'max_depth': 3, 'max_features': 'log2', 'n_estimators': 450}\n",
      "0.7453011335363154 {'criterion': 'entropy', 'max_depth': 3, 'max_features': 'log2', 'n_estimators': 460}\n",
      "0.7434328264048504 {'criterion': 'entropy', 'max_depth': 3, 'max_features': 'log2', 'n_estimators': 470}\n",
      "0.7412166346364198 {'criterion': 'entropy', 'max_depth': 3, 'max_features': 'log2', 'n_estimators': 480}\n",
      "0.7434328264048504 {'criterion': 'entropy', 'max_depth': 3, 'max_features': 'log2', 'n_estimators': 490}\n",
      "0.7412166346364198 {'criterion': 'entropy', 'max_depth': 3, 'max_features': 'log2', 'n_estimators': 500}\n",
      "0.7412166346364198 {'criterion': 'entropy', 'max_depth': 3, 'max_features': 'log2', 'n_estimators': 510}\n",
      "0.7412166346364198 {'criterion': 'entropy', 'max_depth': 3, 'max_features': 'log2', 'n_estimators': 520}\n",
      "0.7430849417678849 {'criterion': 'entropy', 'max_depth': 3, 'max_features': 'log2', 'n_estimators': 530}\n",
      "0.7430849417678849 {'criterion': 'entropy', 'max_depth': 3, 'max_features': 'log2', 'n_estimators': 540}\n",
      "0.7430849417678849 {'criterion': 'entropy', 'max_depth': 3, 'max_features': 'log2', 'n_estimators': 550}\n",
      "0.7430849417678849 {'criterion': 'entropy', 'max_depth': 3, 'max_features': 'log2', 'n_estimators': 560}\n",
      "0.7430849417678849 {'criterion': 'entropy', 'max_depth': 3, 'max_features': 'log2', 'n_estimators': 570}\n",
      "0.7430849417678849 {'criterion': 'entropy', 'max_depth': 3, 'max_features': 'log2', 'n_estimators': 580}\n",
      "0.7430849417678849 {'criterion': 'entropy', 'max_depth': 3, 'max_features': 'log2', 'n_estimators': 590}\n",
      "0.7430849417678849 {'criterion': 'entropy', 'max_depth': 3, 'max_features': 'log2', 'n_estimators': 600}\n",
      "0.7614777918867096 {'criterion': 'entropy', 'max_depth': 4, 'max_features': 'auto', 'n_estimators': 400}\n",
      "0.7614777918867096 {'criterion': 'entropy', 'max_depth': 4, 'max_features': 'auto', 'n_estimators': 410}\n",
      "0.7626457166837471 {'criterion': 'entropy', 'max_depth': 4, 'max_features': 'auto', 'n_estimators': 420}\n",
      "0.7614777918867096 {'criterion': 'entropy', 'max_depth': 4, 'max_features': 'auto', 'n_estimators': 430}\n",
      "0.7626457166837471 {'criterion': 'entropy', 'max_depth': 4, 'max_features': 'auto', 'n_estimators': 440}\n",
      "0.7614777918867096 {'criterion': 'entropy', 'max_depth': 4, 'max_features': 'auto', 'n_estimators': 450}\n",
      "0.7614777918867096 {'criterion': 'entropy', 'max_depth': 4, 'max_features': 'auto', 'n_estimators': 460}\n",
      "0.7614777918867096 {'criterion': 'entropy', 'max_depth': 4, 'max_features': 'auto', 'n_estimators': 470}\n",
      "0.7632688366628291 {'criterion': 'entropy', 'max_depth': 4, 'max_features': 'auto', 'n_estimators': 480}\n",
      "0.7632688366628291 {'criterion': 'entropy', 'max_depth': 4, 'max_features': 'auto', 'n_estimators': 490}\n",
      "0.7632688366628291 {'criterion': 'entropy', 'max_depth': 4, 'max_features': 'auto', 'n_estimators': 500}\n",
      "0.7620792956461081 {'criterion': 'entropy', 'max_depth': 4, 'max_features': 'auto', 'n_estimators': 510}\n",
      "0.7620792956461081 {'criterion': 'entropy', 'max_depth': 4, 'max_features': 'auto', 'n_estimators': 520}\n",
      "0.7620792956461081 {'criterion': 'entropy', 'max_depth': 4, 'max_features': 'auto', 'n_estimators': 530}\n",
      "0.7632688366628291 {'criterion': 'entropy', 'max_depth': 4, 'max_features': 'auto', 'n_estimators': 540}\n",
      "0.7620792956461081 {'criterion': 'entropy', 'max_depth': 4, 'max_features': 'auto', 'n_estimators': 550}\n",
      "0.7620792956461081 {'criterion': 'entropy', 'max_depth': 4, 'max_features': 'auto', 'n_estimators': 560}\n",
      "0.7620792956461081 {'criterion': 'entropy', 'max_depth': 4, 'max_features': 'auto', 'n_estimators': 570}\n",
      "0.7620792956461081 {'criterion': 'entropy', 'max_depth': 4, 'max_features': 'auto', 'n_estimators': 580}\n",
      "0.7632472204431455 {'criterion': 'entropy', 'max_depth': 4, 'max_features': 'auto', 'n_estimators': 590}\n",
      "0.7632472204431455 {'criterion': 'entropy', 'max_depth': 4, 'max_features': 'auto', 'n_estimators': 600}\n",
      "0.7614777918867096 {'criterion': 'entropy', 'max_depth': 4, 'max_features': 'sqrt', 'n_estimators': 400}\n",
      "0.7614777918867096 {'criterion': 'entropy', 'max_depth': 4, 'max_features': 'sqrt', 'n_estimators': 410}\n",
      "0.7626457166837471 {'criterion': 'entropy', 'max_depth': 4, 'max_features': 'sqrt', 'n_estimators': 420}\n",
      "0.7614777918867096 {'criterion': 'entropy', 'max_depth': 4, 'max_features': 'sqrt', 'n_estimators': 430}\n",
      "0.7626457166837471 {'criterion': 'entropy', 'max_depth': 4, 'max_features': 'sqrt', 'n_estimators': 440}\n",
      "0.7614777918867096 {'criterion': 'entropy', 'max_depth': 4, 'max_features': 'sqrt', 'n_estimators': 450}\n",
      "0.7614777918867096 {'criterion': 'entropy', 'max_depth': 4, 'max_features': 'sqrt', 'n_estimators': 460}\n",
      "0.7614777918867096 {'criterion': 'entropy', 'max_depth': 4, 'max_features': 'sqrt', 'n_estimators': 470}\n",
      "0.7632688366628291 {'criterion': 'entropy', 'max_depth': 4, 'max_features': 'sqrt', 'n_estimators': 480}\n",
      "0.7632688366628291 {'criterion': 'entropy', 'max_depth': 4, 'max_features': 'sqrt', 'n_estimators': 490}\n",
      "0.7632688366628291 {'criterion': 'entropy', 'max_depth': 4, 'max_features': 'sqrt', 'n_estimators': 500}\n",
      "0.7620792956461081 {'criterion': 'entropy', 'max_depth': 4, 'max_features': 'sqrt', 'n_estimators': 510}\n",
      "0.7620792956461081 {'criterion': 'entropy', 'max_depth': 4, 'max_features': 'sqrt', 'n_estimators': 520}\n",
      "0.7620792956461081 {'criterion': 'entropy', 'max_depth': 4, 'max_features': 'sqrt', 'n_estimators': 530}\n",
      "0.7632688366628291 {'criterion': 'entropy', 'max_depth': 4, 'max_features': 'sqrt', 'n_estimators': 540}\n",
      "0.7620792956461081 {'criterion': 'entropy', 'max_depth': 4, 'max_features': 'sqrt', 'n_estimators': 550}\n",
      "0.7620792956461081 {'criterion': 'entropy', 'max_depth': 4, 'max_features': 'sqrt', 'n_estimators': 560}\n",
      "0.7620792956461081 {'criterion': 'entropy', 'max_depth': 4, 'max_features': 'sqrt', 'n_estimators': 570}\n",
      "0.7620792956461081 {'criterion': 'entropy', 'max_depth': 4, 'max_features': 'sqrt', 'n_estimators': 580}\n",
      "0.7632472204431455 {'criterion': 'entropy', 'max_depth': 4, 'max_features': 'sqrt', 'n_estimators': 590}\n",
      "0.7632472204431455 {'criterion': 'entropy', 'max_depth': 4, 'max_features': 'sqrt', 'n_estimators': 600}\n",
      "0.7614777918867096 {'criterion': 'entropy', 'max_depth': 4, 'max_features': 'log2', 'n_estimators': 400}\n",
      "0.7614777918867096 {'criterion': 'entropy', 'max_depth': 4, 'max_features': 'log2', 'n_estimators': 410}\n",
      "0.7626457166837471 {'criterion': 'entropy', 'max_depth': 4, 'max_features': 'log2', 'n_estimators': 420}\n",
      "0.7614777918867096 {'criterion': 'entropy', 'max_depth': 4, 'max_features': 'log2', 'n_estimators': 430}\n",
      "0.7626457166837471 {'criterion': 'entropy', 'max_depth': 4, 'max_features': 'log2', 'n_estimators': 440}\n",
      "0.7614777918867096 {'criterion': 'entropy', 'max_depth': 4, 'max_features': 'log2', 'n_estimators': 450}\n",
      "0.7614777918867096 {'criterion': 'entropy', 'max_depth': 4, 'max_features': 'log2', 'n_estimators': 460}\n",
      "0.7614777918867096 {'criterion': 'entropy', 'max_depth': 4, 'max_features': 'log2', 'n_estimators': 470}\n",
      "0.7632688366628291 {'criterion': 'entropy', 'max_depth': 4, 'max_features': 'log2', 'n_estimators': 480}\n",
      "0.7632688366628291 {'criterion': 'entropy', 'max_depth': 4, 'max_features': 'log2', 'n_estimators': 490}\n",
      "0.7632688366628291 {'criterion': 'entropy', 'max_depth': 4, 'max_features': 'log2', 'n_estimators': 500}\n",
      "0.7620792956461081 {'criterion': 'entropy', 'max_depth': 4, 'max_features': 'log2', 'n_estimators': 510}\n",
      "0.7620792956461081 {'criterion': 'entropy', 'max_depth': 4, 'max_features': 'log2', 'n_estimators': 520}\n",
      "0.7620792956461081 {'criterion': 'entropy', 'max_depth': 4, 'max_features': 'log2', 'n_estimators': 530}\n",
      "0.7632688366628291 {'criterion': 'entropy', 'max_depth': 4, 'max_features': 'log2', 'n_estimators': 540}\n",
      "0.7620792956461081 {'criterion': 'entropy', 'max_depth': 4, 'max_features': 'log2', 'n_estimators': 550}\n",
      "0.7620792956461081 {'criterion': 'entropy', 'max_depth': 4, 'max_features': 'log2', 'n_estimators': 560}\n",
      "0.7620792956461081 {'criterion': 'entropy', 'max_depth': 4, 'max_features': 'log2', 'n_estimators': 570}\n",
      "0.7620792956461081 {'criterion': 'entropy', 'max_depth': 4, 'max_features': 'log2', 'n_estimators': 580}\n",
      "0.7632472204431455 {'criterion': 'entropy', 'max_depth': 4, 'max_features': 'log2', 'n_estimators': 590}\n",
      "0.7632472204431455 {'criterion': 'entropy', 'max_depth': 4, 'max_features': 'log2', 'n_estimators': 600}\n",
      "0.753953262154931 {'criterion': 'entropy', 'max_depth': 5, 'max_features': 'auto', 'n_estimators': 400}\n",
      "0.7527606563111623 {'criterion': 'entropy', 'max_depth': 5, 'max_features': 'auto', 'n_estimators': 410}\n",
      "0.7527606563111623 {'criterion': 'entropy', 'max_depth': 5, 'max_features': 'auto', 'n_estimators': 420}\n",
      "0.755818591035325 {'criterion': 'entropy', 'max_depth': 5, 'max_features': 'auto', 'n_estimators': 430}\n",
      "0.7527606563111623 {'criterion': 'entropy', 'max_depth': 5, 'max_features': 'auto', 'n_estimators': 440}\n",
      "0.7539395540417841 {'criterion': 'entropy', 'max_depth': 5, 'max_features': 'auto', 'n_estimators': 450}\n",
      "0.7558363849462486 {'criterion': 'entropy', 'max_depth': 5, 'max_features': 'auto', 'n_estimators': 460}\n",
      "0.7520313846917543 {'criterion': 'entropy', 'max_depth': 5, 'max_features': 'auto', 'n_estimators': 470}\n",
      "0.7532184001956304 {'criterion': 'entropy', 'max_depth': 5, 'max_features': 'auto', 'n_estimators': 480}\n",
      "0.7520395024650084 {'criterion': 'entropy', 'max_depth': 5, 'max_features': 'auto', 'n_estimators': 490}\n",
      "0.7520395024650084 {'criterion': 'entropy', 'max_depth': 5, 'max_features': 'auto', 'n_estimators': 500}\n",
      "0.7508524869611326 {'criterion': 'entropy', 'max_depth': 5, 'max_features': 'auto', 'n_estimators': 510}\n",
      "0.7532184001956304 {'criterion': 'entropy', 'max_depth': 5, 'max_features': 'auto', 'n_estimators': 520}\n",
      "0.7532184001956304 {'criterion': 'entropy', 'max_depth': 5, 'max_features': 'auto', 'n_estimators': 530}\n",
      "0.753936333369473 {'criterion': 'entropy', 'max_depth': 5, 'max_features': 'auto', 'n_estimators': 540}\n",
      "0.753936333369473 {'criterion': 'entropy', 'max_depth': 5, 'max_features': 'auto', 'n_estimators': 550}\n",
      "0.753936333369473 {'criterion': 'entropy', 'max_depth': 5, 'max_features': 'auto', 'n_estimators': 560}\n",
      "0.7520395024650084 {'criterion': 'entropy', 'max_depth': 5, 'max_features': 'auto', 'n_estimators': 570}\n",
      "0.7551152311000948 {'criterion': 'entropy', 'max_depth': 5, 'max_features': 'auto', 'n_estimators': 580}\n",
      "0.753936333369473 {'criterion': 'entropy', 'max_depth': 5, 'max_features': 'auto', 'n_estimators': 590}\n",
      "0.7544241088570477 {'criterion': 'entropy', 'max_depth': 5, 'max_features': 'auto', 'n_estimators': 600}\n",
      "0.753953262154931 {'criterion': 'entropy', 'max_depth': 5, 'max_features': 'sqrt', 'n_estimators': 400}\n",
      "0.7527606563111623 {'criterion': 'entropy', 'max_depth': 5, 'max_features': 'sqrt', 'n_estimators': 410}\n",
      "0.7527606563111623 {'criterion': 'entropy', 'max_depth': 5, 'max_features': 'sqrt', 'n_estimators': 420}\n",
      "0.755818591035325 {'criterion': 'entropy', 'max_depth': 5, 'max_features': 'sqrt', 'n_estimators': 430}\n",
      "0.7527606563111623 {'criterion': 'entropy', 'max_depth': 5, 'max_features': 'sqrt', 'n_estimators': 440}\n",
      "0.7539395540417841 {'criterion': 'entropy', 'max_depth': 5, 'max_features': 'sqrt', 'n_estimators': 450}\n",
      "0.7558363849462486 {'criterion': 'entropy', 'max_depth': 5, 'max_features': 'sqrt', 'n_estimators': 460}\n",
      "0.7520313846917543 {'criterion': 'entropy', 'max_depth': 5, 'max_features': 'sqrt', 'n_estimators': 470}\n",
      "0.7532184001956304 {'criterion': 'entropy', 'max_depth': 5, 'max_features': 'sqrt', 'n_estimators': 480}\n",
      "0.7520395024650084 {'criterion': 'entropy', 'max_depth': 5, 'max_features': 'sqrt', 'n_estimators': 490}\n",
      "0.7520395024650084 {'criterion': 'entropy', 'max_depth': 5, 'max_features': 'sqrt', 'n_estimators': 500}\n",
      "0.7508524869611326 {'criterion': 'entropy', 'max_depth': 5, 'max_features': 'sqrt', 'n_estimators': 510}\n",
      "0.7532184001956304 {'criterion': 'entropy', 'max_depth': 5, 'max_features': 'sqrt', 'n_estimators': 520}\n",
      "0.7532184001956304 {'criterion': 'entropy', 'max_depth': 5, 'max_features': 'sqrt', 'n_estimators': 530}\n",
      "0.753936333369473 {'criterion': 'entropy', 'max_depth': 5, 'max_features': 'sqrt', 'n_estimators': 540}\n",
      "0.753936333369473 {'criterion': 'entropy', 'max_depth': 5, 'max_features': 'sqrt', 'n_estimators': 550}\n",
      "0.753936333369473 {'criterion': 'entropy', 'max_depth': 5, 'max_features': 'sqrt', 'n_estimators': 560}\n",
      "0.7520395024650084 {'criterion': 'entropy', 'max_depth': 5, 'max_features': 'sqrt', 'n_estimators': 570}\n",
      "0.7551152311000948 {'criterion': 'entropy', 'max_depth': 5, 'max_features': 'sqrt', 'n_estimators': 580}\n",
      "0.753936333369473 {'criterion': 'entropy', 'max_depth': 5, 'max_features': 'sqrt', 'n_estimators': 590}\n",
      "0.7544241088570477 {'criterion': 'entropy', 'max_depth': 5, 'max_features': 'sqrt', 'n_estimators': 600}\n",
      "0.753953262154931 {'criterion': 'entropy', 'max_depth': 5, 'max_features': 'log2', 'n_estimators': 400}\n",
      "0.7527606563111623 {'criterion': 'entropy', 'max_depth': 5, 'max_features': 'log2', 'n_estimators': 410}\n",
      "0.7527606563111623 {'criterion': 'entropy', 'max_depth': 5, 'max_features': 'log2', 'n_estimators': 420}\n",
      "0.755818591035325 {'criterion': 'entropy', 'max_depth': 5, 'max_features': 'log2', 'n_estimators': 430}\n",
      "0.7527606563111623 {'criterion': 'entropy', 'max_depth': 5, 'max_features': 'log2', 'n_estimators': 440}\n",
      "0.7539395540417841 {'criterion': 'entropy', 'max_depth': 5, 'max_features': 'log2', 'n_estimators': 450}\n",
      "0.7558363849462486 {'criterion': 'entropy', 'max_depth': 5, 'max_features': 'log2', 'n_estimators': 460}\n",
      "0.7520313846917543 {'criterion': 'entropy', 'max_depth': 5, 'max_features': 'log2', 'n_estimators': 470}\n",
      "0.7532184001956304 {'criterion': 'entropy', 'max_depth': 5, 'max_features': 'log2', 'n_estimators': 480}\n",
      "0.7520395024650084 {'criterion': 'entropy', 'max_depth': 5, 'max_features': 'log2', 'n_estimators': 490}\n",
      "0.7520395024650084 {'criterion': 'entropy', 'max_depth': 5, 'max_features': 'log2', 'n_estimators': 500}\n",
      "0.7508524869611326 {'criterion': 'entropy', 'max_depth': 5, 'max_features': 'log2', 'n_estimators': 510}\n",
      "0.7532184001956304 {'criterion': 'entropy', 'max_depth': 5, 'max_features': 'log2', 'n_estimators': 520}\n",
      "0.7532184001956304 {'criterion': 'entropy', 'max_depth': 5, 'max_features': 'log2', 'n_estimators': 530}\n",
      "0.753936333369473 {'criterion': 'entropy', 'max_depth': 5, 'max_features': 'log2', 'n_estimators': 540}\n",
      "0.753936333369473 {'criterion': 'entropy', 'max_depth': 5, 'max_features': 'log2', 'n_estimators': 550}\n",
      "0.753936333369473 {'criterion': 'entropy', 'max_depth': 5, 'max_features': 'log2', 'n_estimators': 560}\n",
      "0.7520395024650084 {'criterion': 'entropy', 'max_depth': 5, 'max_features': 'log2', 'n_estimators': 570}\n",
      "0.7551152311000948 {'criterion': 'entropy', 'max_depth': 5, 'max_features': 'log2', 'n_estimators': 580}\n",
      "0.753936333369473 {'criterion': 'entropy', 'max_depth': 5, 'max_features': 'log2', 'n_estimators': 590}\n",
      "0.7544241088570477 {'criterion': 'entropy', 'max_depth': 5, 'max_features': 'log2', 'n_estimators': 600}\n",
      "0.7470379319361395 {'criterion': 'entropy', 'max_depth': 6, 'max_features': 'auto', 'n_estimators': 400}\n",
      "0.7470379319361395 {'criterion': 'entropy', 'max_depth': 6, 'max_features': 'auto', 'n_estimators': 410}\n",
      "0.745856829573935 {'criterion': 'entropy', 'max_depth': 6, 'max_features': 'auto', 'n_estimators': 420}\n",
      "0.745856829573935 {'criterion': 'entropy', 'max_depth': 6, 'max_features': 'auto', 'n_estimators': 430}\n",
      "0.7482454963015986 {'criterion': 'entropy', 'max_depth': 6, 'max_features': 'auto', 'n_estimators': 440}\n",
      "0.7493832345191042 {'criterion': 'entropy', 'max_depth': 6, 'max_features': 'auto', 'n_estimators': 450}\n",
      "0.7474147305820963 {'criterion': 'entropy', 'max_depth': 6, 'max_features': 'auto', 'n_estimators': 460}\n",
      "0.7450958900023861 {'criterion': 'entropy', 'max_depth': 6, 'max_features': 'auto', 'n_estimators': 470}\n",
      "0.743888325636927 {'criterion': 'entropy', 'max_depth': 6, 'max_features': 'auto', 'n_estimators': 480}\n",
      "0.743888325636927 {'criterion': 'entropy', 'max_depth': 6, 'max_features': 'auto', 'n_estimators': 490}\n",
      "0.7462071662166372 {'criterion': 'entropy', 'max_depth': 6, 'max_features': 'auto', 'n_estimators': 500}\n",
      "0.7462071662166372 {'criterion': 'entropy', 'max_depth': 6, 'max_features': 'auto', 'n_estimators': 510}\n",
      "0.7462071662166372 {'criterion': 'entropy', 'max_depth': 6, 'max_features': 'auto', 'n_estimators': 520}\n",
      "0.7450443755189627 {'criterion': 'entropy', 'max_depth': 6, 'max_features': 'auto', 'n_estimators': 530}\n",
      "0.7450443755189627 {'criterion': 'entropy', 'max_depth': 6, 'max_features': 'auto', 'n_estimators': 540}\n",
      "0.7450443755189627 {'criterion': 'entropy', 'max_depth': 6, 'max_features': 'auto', 'n_estimators': 550}\n",
      "0.7450443755189627 {'criterion': 'entropy', 'max_depth': 6, 'max_features': 'auto', 'n_estimators': 560}\n",
      "0.7470128794559706 {'criterion': 'entropy', 'max_depth': 6, 'max_features': 'auto', 'n_estimators': 570}\n",
      "0.7470128794559706 {'criterion': 'entropy', 'max_depth': 6, 'max_features': 'auto', 'n_estimators': 580}\n",
      "0.7470128794559706 {'criterion': 'entropy', 'max_depth': 6, 'max_features': 'auto', 'n_estimators': 590}\n",
      "0.7450443755189627 {'criterion': 'entropy', 'max_depth': 6, 'max_features': 'auto', 'n_estimators': 600}\n",
      "0.7470379319361395 {'criterion': 'entropy', 'max_depth': 6, 'max_features': 'sqrt', 'n_estimators': 400}\n",
      "0.7470379319361395 {'criterion': 'entropy', 'max_depth': 6, 'max_features': 'sqrt', 'n_estimators': 410}\n",
      "0.745856829573935 {'criterion': 'entropy', 'max_depth': 6, 'max_features': 'sqrt', 'n_estimators': 420}\n",
      "0.745856829573935 {'criterion': 'entropy', 'max_depth': 6, 'max_features': 'sqrt', 'n_estimators': 430}\n",
      "0.7482454963015986 {'criterion': 'entropy', 'max_depth': 6, 'max_features': 'sqrt', 'n_estimators': 440}\n",
      "0.7493832345191042 {'criterion': 'entropy', 'max_depth': 6, 'max_features': 'sqrt', 'n_estimators': 450}\n",
      "0.7474147305820963 {'criterion': 'entropy', 'max_depth': 6, 'max_features': 'sqrt', 'n_estimators': 460}\n",
      "0.7450958900023861 {'criterion': 'entropy', 'max_depth': 6, 'max_features': 'sqrt', 'n_estimators': 470}\n",
      "0.743888325636927 {'criterion': 'entropy', 'max_depth': 6, 'max_features': 'sqrt', 'n_estimators': 480}\n",
      "0.743888325636927 {'criterion': 'entropy', 'max_depth': 6, 'max_features': 'sqrt', 'n_estimators': 490}\n",
      "0.7462071662166372 {'criterion': 'entropy', 'max_depth': 6, 'max_features': 'sqrt', 'n_estimators': 500}\n",
      "0.7462071662166372 {'criterion': 'entropy', 'max_depth': 6, 'max_features': 'sqrt', 'n_estimators': 510}\n",
      "0.7462071662166372 {'criterion': 'entropy', 'max_depth': 6, 'max_features': 'sqrt', 'n_estimators': 520}\n",
      "0.7450443755189627 {'criterion': 'entropy', 'max_depth': 6, 'max_features': 'sqrt', 'n_estimators': 530}\n",
      "0.7450443755189627 {'criterion': 'entropy', 'max_depth': 6, 'max_features': 'sqrt', 'n_estimators': 540}\n",
      "0.7450443755189627 {'criterion': 'entropy', 'max_depth': 6, 'max_features': 'sqrt', 'n_estimators': 550}\n",
      "0.7450443755189627 {'criterion': 'entropy', 'max_depth': 6, 'max_features': 'sqrt', 'n_estimators': 560}\n",
      "0.7470128794559706 {'criterion': 'entropy', 'max_depth': 6, 'max_features': 'sqrt', 'n_estimators': 570}\n",
      "0.7470128794559706 {'criterion': 'entropy', 'max_depth': 6, 'max_features': 'sqrt', 'n_estimators': 580}\n",
      "0.7470128794559706 {'criterion': 'entropy', 'max_depth': 6, 'max_features': 'sqrt', 'n_estimators': 590}\n",
      "0.7450443755189627 {'criterion': 'entropy', 'max_depth': 6, 'max_features': 'sqrt', 'n_estimators': 600}\n",
      "0.7470379319361395 {'criterion': 'entropy', 'max_depth': 6, 'max_features': 'log2', 'n_estimators': 400}\n",
      "0.7470379319361395 {'criterion': 'entropy', 'max_depth': 6, 'max_features': 'log2', 'n_estimators': 410}\n",
      "0.745856829573935 {'criterion': 'entropy', 'max_depth': 6, 'max_features': 'log2', 'n_estimators': 420}\n",
      "0.745856829573935 {'criterion': 'entropy', 'max_depth': 6, 'max_features': 'log2', 'n_estimators': 430}\n",
      "0.7482454963015986 {'criterion': 'entropy', 'max_depth': 6, 'max_features': 'log2', 'n_estimators': 440}\n",
      "0.7493832345191042 {'criterion': 'entropy', 'max_depth': 6, 'max_features': 'log2', 'n_estimators': 450}\n",
      "0.7474147305820963 {'criterion': 'entropy', 'max_depth': 6, 'max_features': 'log2', 'n_estimators': 460}\n",
      "0.7450958900023861 {'criterion': 'entropy', 'max_depth': 6, 'max_features': 'log2', 'n_estimators': 470}\n",
      "0.743888325636927 {'criterion': 'entropy', 'max_depth': 6, 'max_features': 'log2', 'n_estimators': 480}\n",
      "0.743888325636927 {'criterion': 'entropy', 'max_depth': 6, 'max_features': 'log2', 'n_estimators': 490}\n",
      "0.7462071662166372 {'criterion': 'entropy', 'max_depth': 6, 'max_features': 'log2', 'n_estimators': 500}\n",
      "0.7462071662166372 {'criterion': 'entropy', 'max_depth': 6, 'max_features': 'log2', 'n_estimators': 510}\n",
      "0.7462071662166372 {'criterion': 'entropy', 'max_depth': 6, 'max_features': 'log2', 'n_estimators': 520}\n",
      "0.7450443755189627 {'criterion': 'entropy', 'max_depth': 6, 'max_features': 'log2', 'n_estimators': 530}\n",
      "0.7450443755189627 {'criterion': 'entropy', 'max_depth': 6, 'max_features': 'log2', 'n_estimators': 540}\n",
      "0.7450443755189627 {'criterion': 'entropy', 'max_depth': 6, 'max_features': 'log2', 'n_estimators': 550}\n",
      "0.7450443755189627 {'criterion': 'entropy', 'max_depth': 6, 'max_features': 'log2', 'n_estimators': 560}\n",
      "0.7470128794559706 {'criterion': 'entropy', 'max_depth': 6, 'max_features': 'log2', 'n_estimators': 570}\n",
      "0.7470128794559706 {'criterion': 'entropy', 'max_depth': 6, 'max_features': 'log2', 'n_estimators': 580}\n",
      "0.7470128794559706 {'criterion': 'entropy', 'max_depth': 6, 'max_features': 'log2', 'n_estimators': 590}\n",
      "0.7450443755189627 {'criterion': 'entropy', 'max_depth': 6, 'max_features': 'log2', 'n_estimators': 600}\n",
      "0.7510989524465016 {'criterion': 'entropy', 'max_depth': 7, 'max_features': 'auto', 'n_estimators': 400}\n",
      "0.7510989524465016 {'criterion': 'entropy', 'max_depth': 7, 'max_features': 'auto', 'n_estimators': 410}\n",
      "0.7510989524465016 {'criterion': 'entropy', 'max_depth': 7, 'max_features': 'auto', 'n_estimators': 420}\n",
      "0.7445327473600682 {'criterion': 'entropy', 'max_depth': 7, 'max_features': 'auto', 'n_estimators': 430}\n",
      "0.7457076005034254 {'criterion': 'entropy', 'max_depth': 7, 'max_features': 'auto', 'n_estimators': 440}\n",
      "0.7457076005034254 {'criterion': 'entropy', 'max_depth': 7, 'max_features': 'auto', 'n_estimators': 450}\n",
      "0.7445327473600682 {'criterion': 'entropy', 'max_depth': 7, 'max_features': 'auto', 'n_estimators': 460}\n",
      "0.7445327473600682 {'criterion': 'entropy', 'max_depth': 7, 'max_features': 'auto', 'n_estimators': 470}\n",
      "0.7445327473600682 {'criterion': 'entropy', 'max_depth': 7, 'max_features': 'auto', 'n_estimators': 480}\n",
      "0.7457076005034254 {'criterion': 'entropy', 'max_depth': 7, 'max_features': 'auto', 'n_estimators': 490}\n",
      "0.7457076005034254 {'criterion': 'entropy', 'max_depth': 7, 'max_features': 'auto', 'n_estimators': 500}\n",
      "0.7457076005034254 {'criterion': 'entropy', 'max_depth': 7, 'max_features': 'auto', 'n_estimators': 510}\n",
      "0.7468703912010998 {'criterion': 'entropy', 'max_depth': 7, 'max_features': 'auto', 'n_estimators': 520}\n",
      "0.7468703912010998 {'criterion': 'entropy', 'max_depth': 7, 'max_features': 'auto', 'n_estimators': 530}\n",
      "0.7488451443569554 {'criterion': 'entropy', 'max_depth': 7, 'max_features': 'auto', 'n_estimators': 540}\n",
      "0.7488451443569554 {'criterion': 'entropy', 'max_depth': 7, 'max_features': 'auto', 'n_estimators': 550}\n",
      "0.7488451443569554 {'criterion': 'entropy', 'max_depth': 7, 'max_features': 'auto', 'n_estimators': 560}\n",
      "0.7488451443569554 {'criterion': 'entropy', 'max_depth': 7, 'max_features': 'auto', 'n_estimators': 570}\n",
      "0.7488451443569554 {'criterion': 'entropy', 'max_depth': 7, 'max_features': 'auto', 'n_estimators': 580}\n",
      "0.7476823536592809 {'criterion': 'entropy', 'max_depth': 7, 'max_features': 'auto', 'n_estimators': 590}\n",
      "0.7510989524465016 {'criterion': 'entropy', 'max_depth': 7, 'max_features': 'auto', 'n_estimators': 600}\n",
      "0.7510989524465016 {'criterion': 'entropy', 'max_depth': 7, 'max_features': 'sqrt', 'n_estimators': 400}\n",
      "0.7510989524465016 {'criterion': 'entropy', 'max_depth': 7, 'max_features': 'sqrt', 'n_estimators': 410}\n",
      "0.7510989524465016 {'criterion': 'entropy', 'max_depth': 7, 'max_features': 'sqrt', 'n_estimators': 420}\n",
      "0.7445327473600682 {'criterion': 'entropy', 'max_depth': 7, 'max_features': 'sqrt', 'n_estimators': 430}\n",
      "0.7457076005034254 {'criterion': 'entropy', 'max_depth': 7, 'max_features': 'sqrt', 'n_estimators': 440}\n",
      "0.7457076005034254 {'criterion': 'entropy', 'max_depth': 7, 'max_features': 'sqrt', 'n_estimators': 450}\n",
      "0.7445327473600682 {'criterion': 'entropy', 'max_depth': 7, 'max_features': 'sqrt', 'n_estimators': 460}\n",
      "0.7445327473600682 {'criterion': 'entropy', 'max_depth': 7, 'max_features': 'sqrt', 'n_estimators': 470}\n",
      "0.7445327473600682 {'criterion': 'entropy', 'max_depth': 7, 'max_features': 'sqrt', 'n_estimators': 480}\n",
      "0.7457076005034254 {'criterion': 'entropy', 'max_depth': 7, 'max_features': 'sqrt', 'n_estimators': 490}\n",
      "0.7457076005034254 {'criterion': 'entropy', 'max_depth': 7, 'max_features': 'sqrt', 'n_estimators': 500}\n",
      "0.7457076005034254 {'criterion': 'entropy', 'max_depth': 7, 'max_features': 'sqrt', 'n_estimators': 510}\n",
      "0.7468703912010998 {'criterion': 'entropy', 'max_depth': 7, 'max_features': 'sqrt', 'n_estimators': 520}\n",
      "0.7468703912010998 {'criterion': 'entropy', 'max_depth': 7, 'max_features': 'sqrt', 'n_estimators': 530}\n",
      "0.7488451443569554 {'criterion': 'entropy', 'max_depth': 7, 'max_features': 'sqrt', 'n_estimators': 540}\n",
      "0.7488451443569554 {'criterion': 'entropy', 'max_depth': 7, 'max_features': 'sqrt', 'n_estimators': 550}\n",
      "0.7488451443569554 {'criterion': 'entropy', 'max_depth': 7, 'max_features': 'sqrt', 'n_estimators': 560}\n",
      "0.7488451443569554 {'criterion': 'entropy', 'max_depth': 7, 'max_features': 'sqrt', 'n_estimators': 570}\n",
      "0.7488451443569554 {'criterion': 'entropy', 'max_depth': 7, 'max_features': 'sqrt', 'n_estimators': 580}\n",
      "0.7476823536592809 {'criterion': 'entropy', 'max_depth': 7, 'max_features': 'sqrt', 'n_estimators': 590}\n",
      "0.7510989524465016 {'criterion': 'entropy', 'max_depth': 7, 'max_features': 'sqrt', 'n_estimators': 600}\n",
      "0.7510989524465016 {'criterion': 'entropy', 'max_depth': 7, 'max_features': 'log2', 'n_estimators': 400}\n",
      "0.7510989524465016 {'criterion': 'entropy', 'max_depth': 7, 'max_features': 'log2', 'n_estimators': 410}\n",
      "0.7510989524465016 {'criterion': 'entropy', 'max_depth': 7, 'max_features': 'log2', 'n_estimators': 420}\n",
      "0.7445327473600682 {'criterion': 'entropy', 'max_depth': 7, 'max_features': 'log2', 'n_estimators': 430}\n",
      "0.7457076005034254 {'criterion': 'entropy', 'max_depth': 7, 'max_features': 'log2', 'n_estimators': 440}\n",
      "0.7457076005034254 {'criterion': 'entropy', 'max_depth': 7, 'max_features': 'log2', 'n_estimators': 450}\n",
      "0.7445327473600682 {'criterion': 'entropy', 'max_depth': 7, 'max_features': 'log2', 'n_estimators': 460}\n",
      "0.7445327473600682 {'criterion': 'entropy', 'max_depth': 7, 'max_features': 'log2', 'n_estimators': 470}\n",
      "0.7445327473600682 {'criterion': 'entropy', 'max_depth': 7, 'max_features': 'log2', 'n_estimators': 480}\n",
      "0.7457076005034254 {'criterion': 'entropy', 'max_depth': 7, 'max_features': 'log2', 'n_estimators': 490}\n",
      "0.7457076005034254 {'criterion': 'entropy', 'max_depth': 7, 'max_features': 'log2', 'n_estimators': 500}\n",
      "0.7457076005034254 {'criterion': 'entropy', 'max_depth': 7, 'max_features': 'log2', 'n_estimators': 510}\n",
      "0.7468703912010998 {'criterion': 'entropy', 'max_depth': 7, 'max_features': 'log2', 'n_estimators': 520}\n",
      "0.7468703912010998 {'criterion': 'entropy', 'max_depth': 7, 'max_features': 'log2', 'n_estimators': 530}\n",
      "0.7488451443569554 {'criterion': 'entropy', 'max_depth': 7, 'max_features': 'log2', 'n_estimators': 540}\n",
      "0.7488451443569554 {'criterion': 'entropy', 'max_depth': 7, 'max_features': 'log2', 'n_estimators': 550}\n",
      "0.7488451443569554 {'criterion': 'entropy', 'max_depth': 7, 'max_features': 'log2', 'n_estimators': 560}\n",
      "0.7488451443569554 {'criterion': 'entropy', 'max_depth': 7, 'max_features': 'log2', 'n_estimators': 570}\n",
      "0.7488451443569554 {'criterion': 'entropy', 'max_depth': 7, 'max_features': 'log2', 'n_estimators': 580}\n",
      "0.7476823536592809 {'criterion': 'entropy', 'max_depth': 7, 'max_features': 'log2', 'n_estimators': 590}\n",
      "0.7510989524465016 {'criterion': 'entropy', 'max_depth': 7, 'max_features': 'log2', 'n_estimators': 600}\n",
      "0.7549130259053924 {'criterion': 'entropy', 'max_depth': 8, 'max_features': 'auto', 'n_estimators': 400}\n",
      "0.7509806637806637 {'criterion': 'entropy', 'max_depth': 8, 'max_features': 'auto', 'n_estimators': 410}\n",
      "0.7509806637806637 {'criterion': 'entropy', 'max_depth': 8, 'max_features': 'auto', 'n_estimators': 420}\n",
      "0.7529870129870131 {'criterion': 'entropy', 'max_depth': 8, 'max_features': 'auto', 'n_estimators': 430}\n",
      "0.7509806637806637 {'criterion': 'entropy', 'max_depth': 8, 'max_features': 'auto', 'n_estimators': 440}\n",
      "0.7509806637806637 {'criterion': 'entropy', 'max_depth': 8, 'max_features': 'auto', 'n_estimators': 450}\n",
      "0.7532115778759847 {'criterion': 'entropy', 'max_depth': 8, 'max_features': 'auto', 'n_estimators': 460}\n",
      "0.754481419145826 {'criterion': 'entropy', 'max_depth': 8, 'max_features': 'auto', 'n_estimators': 470}\n",
      "0.7552179270823338 {'criterion': 'entropy', 'max_depth': 8, 'max_features': 'auto', 'n_estimators': 480}\n",
      "0.7564074320642052 {'criterion': 'entropy', 'max_depth': 8, 'max_features': 'auto', 'n_estimators': 490}\n",
      "0.7540041186685256 {'criterion': 'entropy', 'max_depth': 8, 'max_features': 'auto', 'n_estimators': 500}\n",
      "0.7540041186685256 {'criterion': 'entropy', 'max_depth': 8, 'max_features': 'auto', 'n_estimators': 510}\n",
      "0.7552739599383668 {'criterion': 'entropy', 'max_depth': 8, 'max_features': 'auto', 'n_estimators': 520}\n",
      "0.7552739599383668 {'criterion': 'entropy', 'max_depth': 8, 'max_features': 'auto', 'n_estimators': 530}\n",
      "0.757280309144716 {'criterion': 'entropy', 'max_depth': 8, 'max_features': 'auto', 'n_estimators': 540}\n",
      "0.757280309144716 {'criterion': 'entropy', 'max_depth': 8, 'max_features': 'auto', 'n_estimators': 550}\n",
      "0.757280309144716 {'criterion': 'entropy', 'max_depth': 8, 'max_features': 'auto', 'n_estimators': 560}\n",
      "0.757280309144716 {'criterion': 'entropy', 'max_depth': 8, 'max_features': 'auto', 'n_estimators': 570}\n",
      "0.7540041186685256 {'criterion': 'entropy', 'max_depth': 8, 'max_features': 'auto', 'n_estimators': 580}\n",
      "0.7558040731000589 {'criterion': 'entropy', 'max_depth': 8, 'max_features': 'auto', 'n_estimators': 590}\n",
      "0.7558040731000589 {'criterion': 'entropy', 'max_depth': 8, 'max_features': 'auto', 'n_estimators': 600}\n",
      "0.7549130259053924 {'criterion': 'entropy', 'max_depth': 8, 'max_features': 'sqrt', 'n_estimators': 400}\n",
      "0.7509806637806637 {'criterion': 'entropy', 'max_depth': 8, 'max_features': 'sqrt', 'n_estimators': 410}\n",
      "0.7509806637806637 {'criterion': 'entropy', 'max_depth': 8, 'max_features': 'sqrt', 'n_estimators': 420}\n",
      "0.7529870129870131 {'criterion': 'entropy', 'max_depth': 8, 'max_features': 'sqrt', 'n_estimators': 430}\n",
      "0.7509806637806637 {'criterion': 'entropy', 'max_depth': 8, 'max_features': 'sqrt', 'n_estimators': 440}\n",
      "0.7509806637806637 {'criterion': 'entropy', 'max_depth': 8, 'max_features': 'sqrt', 'n_estimators': 450}\n",
      "0.7532115778759847 {'criterion': 'entropy', 'max_depth': 8, 'max_features': 'sqrt', 'n_estimators': 460}\n",
      "0.754481419145826 {'criterion': 'entropy', 'max_depth': 8, 'max_features': 'sqrt', 'n_estimators': 470}\n",
      "0.7552179270823338 {'criterion': 'entropy', 'max_depth': 8, 'max_features': 'sqrt', 'n_estimators': 480}\n",
      "0.7564074320642052 {'criterion': 'entropy', 'max_depth': 8, 'max_features': 'sqrt', 'n_estimators': 490}\n",
      "0.7540041186685256 {'criterion': 'entropy', 'max_depth': 8, 'max_features': 'sqrt', 'n_estimators': 500}\n",
      "0.7540041186685256 {'criterion': 'entropy', 'max_depth': 8, 'max_features': 'sqrt', 'n_estimators': 510}\n",
      "0.7552739599383668 {'criterion': 'entropy', 'max_depth': 8, 'max_features': 'sqrt', 'n_estimators': 520}\n",
      "0.7552739599383668 {'criterion': 'entropy', 'max_depth': 8, 'max_features': 'sqrt', 'n_estimators': 530}\n",
      "0.757280309144716 {'criterion': 'entropy', 'max_depth': 8, 'max_features': 'sqrt', 'n_estimators': 540}\n",
      "0.757280309144716 {'criterion': 'entropy', 'max_depth': 8, 'max_features': 'sqrt', 'n_estimators': 550}\n",
      "0.757280309144716 {'criterion': 'entropy', 'max_depth': 8, 'max_features': 'sqrt', 'n_estimators': 560}\n",
      "0.757280309144716 {'criterion': 'entropy', 'max_depth': 8, 'max_features': 'sqrt', 'n_estimators': 570}\n",
      "0.7540041186685256 {'criterion': 'entropy', 'max_depth': 8, 'max_features': 'sqrt', 'n_estimators': 580}\n",
      "0.7558040731000589 {'criterion': 'entropy', 'max_depth': 8, 'max_features': 'sqrt', 'n_estimators': 590}\n",
      "0.7558040731000589 {'criterion': 'entropy', 'max_depth': 8, 'max_features': 'sqrt', 'n_estimators': 600}\n",
      "0.7549130259053924 {'criterion': 'entropy', 'max_depth': 8, 'max_features': 'log2', 'n_estimators': 400}\n",
      "0.7509806637806637 {'criterion': 'entropy', 'max_depth': 8, 'max_features': 'log2', 'n_estimators': 410}\n",
      "0.7509806637806637 {'criterion': 'entropy', 'max_depth': 8, 'max_features': 'log2', 'n_estimators': 420}\n",
      "0.7529870129870131 {'criterion': 'entropy', 'max_depth': 8, 'max_features': 'log2', 'n_estimators': 430}\n",
      "0.7509806637806637 {'criterion': 'entropy', 'max_depth': 8, 'max_features': 'log2', 'n_estimators': 440}\n",
      "0.7509806637806637 {'criterion': 'entropy', 'max_depth': 8, 'max_features': 'log2', 'n_estimators': 450}\n",
      "0.7532115778759847 {'criterion': 'entropy', 'max_depth': 8, 'max_features': 'log2', 'n_estimators': 460}\n",
      "0.754481419145826 {'criterion': 'entropy', 'max_depth': 8, 'max_features': 'log2', 'n_estimators': 470}\n",
      "0.7552179270823338 {'criterion': 'entropy', 'max_depth': 8, 'max_features': 'log2', 'n_estimators': 480}\n",
      "0.7564074320642052 {'criterion': 'entropy', 'max_depth': 8, 'max_features': 'log2', 'n_estimators': 490}\n",
      "0.7540041186685256 {'criterion': 'entropy', 'max_depth': 8, 'max_features': 'log2', 'n_estimators': 500}\n",
      "0.7540041186685256 {'criterion': 'entropy', 'max_depth': 8, 'max_features': 'log2', 'n_estimators': 510}\n",
      "0.7552739599383668 {'criterion': 'entropy', 'max_depth': 8, 'max_features': 'log2', 'n_estimators': 520}\n",
      "0.7552739599383668 {'criterion': 'entropy', 'max_depth': 8, 'max_features': 'log2', 'n_estimators': 530}\n",
      "0.757280309144716 {'criterion': 'entropy', 'max_depth': 8, 'max_features': 'log2', 'n_estimators': 540}\n",
      "0.757280309144716 {'criterion': 'entropy', 'max_depth': 8, 'max_features': 'log2', 'n_estimators': 550}\n",
      "0.757280309144716 {'criterion': 'entropy', 'max_depth': 8, 'max_features': 'log2', 'n_estimators': 560}\n",
      "0.757280309144716 {'criterion': 'entropy', 'max_depth': 8, 'max_features': 'log2', 'n_estimators': 570}\n",
      "0.7540041186685256 {'criterion': 'entropy', 'max_depth': 8, 'max_features': 'log2', 'n_estimators': 580}\n",
      "0.7558040731000589 {'criterion': 'entropy', 'max_depth': 8, 'max_features': 'log2', 'n_estimators': 590}\n",
      "0.7558040731000589 {'criterion': 'entropy', 'max_depth': 8, 'max_features': 'log2', 'n_estimators': 600}\n"
     ]
    }
   ],
   "source": [
    "for mean_score, params in zip(cvres[\"mean_test_score\"], cvres[\"params\"]):\n",
    "    print(mean_score, params)"
   ]
  },
  {
   "cell_type": "code",
   "execution_count": 108,
   "metadata": {},
   "outputs": [
    {
     "data": {
      "text/plain": [
       "[400,\n",
       " 410,\n",
       " 420,\n",
       " 430,\n",
       " 440,\n",
       " 450,\n",
       " 460,\n",
       " 470,\n",
       " 480,\n",
       " 490,\n",
       " 500,\n",
       " 510,\n",
       " 520,\n",
       " 530,\n",
       " 540,\n",
       " 550,\n",
       " 560,\n",
       " 570,\n",
       " 580,\n",
       " 590,\n",
       " 600]"
      ]
     },
     "execution_count": 108,
     "metadata": {},
     "output_type": "execute_result"
    }
   ],
   "source": [
    "list(range(400,601,10))"
   ]
  },
  {
   "cell_type": "code",
   "execution_count": 217,
   "metadata": {},
   "outputs": [
    {
     "name": "stdout",
     "output_type": "stream",
     "text": [
      "Model: \"sequential\"\n",
      "_________________________________________________________________\n",
      "Layer (type)                 Output Shape              Param #   \n",
      "=================================================================\n",
      "dense (Dense)                (None, 11)                198       \n",
      "_________________________________________________________________\n",
      "dense_1 (Dense)              (None, 21)                252       \n",
      "_________________________________________________________________\n",
      "dropout (Dropout)            (None, 21)                0         \n",
      "_________________________________________________________________\n",
      "dense_2 (Dense)              (None, 11)                242       \n",
      "_________________________________________________________________\n",
      "dropout_1 (Dropout)          (None, 11)                0         \n",
      "_________________________________________________________________\n",
      "dense_3 (Dense)              (None, 11)                132       \n",
      "_________________________________________________________________\n",
      "dropout_2 (Dropout)          (None, 11)                0         \n",
      "_________________________________________________________________\n",
      "dense_4 (Dense)              (None, 11)                132       \n",
      "_________________________________________________________________\n",
      "dropout_3 (Dropout)          (None, 11)                0         \n",
      "_________________________________________________________________\n",
      "dense_5 (Dense)              (None, 5)                 60        \n",
      "_________________________________________________________________\n",
      "dense_6 (Dense)              (None, 1)                 6         \n",
      "=================================================================\n",
      "Total params: 1,022\n",
      "Trainable params: 1,022\n",
      "Non-trainable params: 0\n",
      "_________________________________________________________________\n"
     ]
    }
   ],
   "source": [
    "from keras.models import Sequential\n",
    "from keras.layers import Dense,Dropout\n",
    "\n",
    "tf.keras.backend.clear_session()\n",
    "classifier = Sequential()\n",
    "classifier.add(Dense(activation=\"relu\", input_dim=17, units=11, kernel_initializer=\"uniform\"))\n",
    "classifier.add(Dense(activation=\"relu\", units=21, kernel_initializer=\"uniform\"))\n",
    "classifier.add(Dropout(0.5))\n",
    "classifier.add(Dense(activation=\"relu\", units=11, kernel_initializer=\"uniform\"))\n",
    "classifier.add(Dropout(0.5))\n",
    "classifier.add(Dense(activation=\"relu\", units=11, kernel_initializer=\"uniform\"))\n",
    "classifier.add(Dropout(0.5))\n",
    "classifier.add(Dense(activation=\"relu\", units=11, kernel_initializer=\"uniform\"))\n",
    "classifier.add(Dropout(0.5))\n",
    "classifier.add(Dense(activation=\"relu\", units=5, kernel_initializer=\"uniform\"))\n",
    "classifier.add(Dense(activation=\"sigmoid\", units=1, kernel_initializer=\"uniform\"))\n",
    "classifier.compile(optimizer = 'adam', loss = 'binary_crossentropy', metrics = f1_m)\n",
    "classifier.summary()"
   ]
  },
  {
   "cell_type": "code",
   "execution_count": 231,
   "metadata": {},
   "outputs": [],
   "source": [
    "X_train = scaler.fit_transform(X_train)\n",
    "X_train.shape\n",
    "def recall_m(y_true, y_pred):\n",
    "    true_positives = K.sum(K.round(K.clip(y_true * y_pred, 0, 1)))\n",
    "    possible_positives = K.sum(K.round(K.clip(y_true, 0, 1)))\n",
    "    recall = true_positives / (possible_positives + K.epsilon())\n",
    "    return recall\n",
    "\n",
    "def precision_m(y_true, y_pred):\n",
    "    true_positives = K.sum(K.round(K.clip(y_true * y_pred, 0, 1)))\n",
    "    predicted_positives = K.sum(K.round(K.clip(y_pred, 0, 1)))\n",
    "    precision = true_positives / (predicted_positives + K.epsilon())\n",
    "    return precision\n",
    "\n",
    "def f1_m(y_true, y_pred):\n",
    "    precision = precision_m(y_true, y_pred)\n",
    "    recall = recall_m(y_true, y_pred)\n",
    "    return 2*((precision*recall)/(precision+recall+K.epsilon()))"
   ]
  },
  {
   "cell_type": "code",
   "execution_count": 236,
   "metadata": {},
   "outputs": [
    {
     "name": "stdout",
     "output_type": "stream",
     "text": [
      "Model: \"sequential\"\n",
      "_________________________________________________________________\n",
      "Layer (type)                 Output Shape              Param #   \n",
      "=================================================================\n",
      "dense (Dense)                (None, 11)                198       \n",
      "_________________________________________________________________\n",
      "dense_1 (Dense)              (None, 21)                252       \n",
      "_________________________________________________________________\n",
      "dropout (Dropout)            (None, 21)                0         \n",
      "_________________________________________________________________\n",
      "dense_2 (Dense)              (None, 11)                242       \n",
      "_________________________________________________________________\n",
      "dropout_1 (Dropout)          (None, 11)                0         \n",
      "_________________________________________________________________\n",
      "dense_3 (Dense)              (None, 11)                132       \n",
      "_________________________________________________________________\n",
      "dropout_2 (Dropout)          (None, 11)                0         \n",
      "_________________________________________________________________\n",
      "dense_4 (Dense)              (None, 11)                132       \n",
      "_________________________________________________________________\n",
      "dropout_3 (Dropout)          (None, 11)                0         \n",
      "_________________________________________________________________\n",
      "dense_5 (Dense)              (None, 5)                 60        \n",
      "_________________________________________________________________\n",
      "dense_6 (Dense)              (None, 1)                 6         \n",
      "=================================================================\n",
      "Total params: 1,022\n",
      "Trainable params: 1,022\n",
      "Non-trainable params: 0\n",
      "_________________________________________________________________\n"
     ]
    },
    {
     "data": {
      "text/plain": [
       "0.8011444921316165"
      ]
     },
     "execution_count": 236,
     "metadata": {},
     "output_type": "execute_result"
    }
   ],
   "source": [
    "import keras\n",
    "import tensorflow as tf\n",
    "\n",
    "tf.keras.backend.clear_session()\n",
    "classifier = Sequential()\n",
    "classifier.add(Dense(activation=\"relu\", input_dim=17, units=11, kernel_initializer=\"uniform\"))\n",
    "classifier.add(Dense(activation=\"relu\", units=21, kernel_initializer=\"uniform\"))\n",
    "classifier.add(Dropout(0.5))\n",
    "classifier.add(Dense(activation=\"relu\", units=11, kernel_initializer=\"uniform\"))\n",
    "classifier.add(Dropout(0.5))\n",
    "classifier.add(Dense(activation=\"relu\", units=11, kernel_initializer=\"uniform\"))\n",
    "classifier.add(Dropout(0.5))\n",
    "classifier.add(Dense(activation=\"relu\", units=11, kernel_initializer=\"uniform\"))\n",
    "classifier.add(Dropout(0.5))\n",
    "classifier.add(Dense(activation=\"relu\", units=5, kernel_initializer=\"uniform\"))\n",
    "classifier.add(Dense(activation=\"sigmoid\", units=1, kernel_initializer=\"uniform\"))\n",
    "classifier.compile(optimizer = 'adam', loss = 'binary_crossentropy', metrics = f1_m)\n",
    "classifier.summary()\n",
    "\n",
    "lr_scheduler = keras.callbacks.ReduceLROnPlateau(factor=0.5, patience=5)\n",
    "early_stopping_cb = keras.callbacks.EarlyStopping(patience=10,\n",
    " restore_best_weights=True)\n",
    "\n",
    "\n",
    "history=classifier.fit(X_train, y_train, batch_size = 10, epochs = 100,\n",
    "    validation_split=0.1,shuffle=True, verbose = 0 ,callbacks = [lr_scheduler])\n",
    "deep_pred = np.round(classifier.predict(X_train))\n",
    "f1_score(y_train, deep_pred)"
   ]
  },
  {
   "cell_type": "code",
   "execution_count": 237,
   "metadata": {},
   "outputs": [
    {
     "data": {
      "text/plain": [
       "0.8011444921316165"
      ]
     },
     "execution_count": 237,
     "metadata": {},
     "output_type": "execute_result"
    }
   ],
   "source": [
    " history=classifier.fit(X_train, y_train, batch_size = 10, epochs = 100,\n",
    "    validation_split=0.1,shuffle=True, verbose = 0 ,callbacks = [lr_scheduler])\n",
    "deep_pred = np.round(classifier.predict(X_train))\n",
    "f1_score(y_train, deep_pred)"
   ]
  },
  {
   "cell_type": "code",
   "execution_count": 150,
   "metadata": {},
   "outputs": [
    {
     "data": {
      "text/plain": [
       "0.7845659163987139"
      ]
     },
     "execution_count": 150,
     "metadata": {},
     "output_type": "execute_result"
    }
   ],
   "source": [
    "f1_score(y_train, deep_pred)"
   ]
  },
  {
   "cell_type": "code",
   "execution_count": 209,
   "metadata": {},
   "outputs": [
    {
     "data": {
      "text/plain": [
       "4.727423087765647"
      ]
     },
     "execution_count": 209,
     "metadata": {},
     "output_type": "execute_result"
    }
   ],
   "source": [
    "(0.8117154811715482 - 0.7644412502938918 )*100"
   ]
  },
  {
   "cell_type": "code",
   "execution_count": 220,
   "metadata": {},
   "outputs": [
    {
     "data": {
      "text/plain": [
       "0.7964338781575037"
      ]
     },
     "execution_count": 220,
     "metadata": {},
     "output_type": "execute_result"
    }
   ],
   "source": [
    "f1_score(y_train, deep_pred)"
   ]
  },
  {
   "cell_type": "code",
   "execution_count": 235,
   "metadata": {},
   "outputs": [],
   "source": [
    "classifier.save_weights('my_weights.h5')"
   ]
  },
  {
   "cell_type": "code",
   "execution_count": 238,
   "metadata": {},
   "outputs": [],
   "source": [
    "from keras.models import load_model\n",
    "new_model = load_model('my_model.h5', custom_objects={\"f1_m\": f1_m})"
   ]
  },
  {
   "cell_type": "code",
   "execution_count": 239,
   "metadata": {},
   "outputs": [],
   "source": [
    "deep_pred = np.round(new_model.predict(X_train))"
   ]
  },
  {
   "cell_type": "code",
   "execution_count": 240,
   "metadata": {},
   "outputs": [
    {
     "data": {
      "text/plain": [
       "0.8117154811715482"
      ]
     },
     "execution_count": 240,
     "metadata": {},
     "output_type": "execute_result"
    }
   ],
   "source": [
    "f1_score(y_train, deep_pred)"
   ]
  },
  {
   "cell_type": "code",
   "execution_count": 242,
   "metadata": {},
   "outputs": [
    {
     "data": {
      "text/plain": [
       "0.8484848484848485"
      ]
     },
     "execution_count": 242,
     "metadata": {},
     "output_type": "execute_result"
    }
   ],
   "source": [
    "accuracy_score(y_train, deep_pred)"
   ]
  },
  {
   "cell_type": "code",
   "execution_count": 244,
   "metadata": {},
   "outputs": [
    {
     "data": {
      "text/plain": [
       "0    549\n",
       "1    342\n",
       "Name: survived, dtype: int64"
      ]
     },
     "execution_count": 244,
     "metadata": {},
     "output_type": "execute_result"
    }
   ],
   "source": [
    "y_train.value_counts()"
   ]
  },
  {
   "cell_type": "code",
   "execution_count": null,
   "metadata": {},
   "outputs": [],
   "source": []
  }
 ],
 "metadata": {
  "kernelspec": {
   "display_name": "Python 3",
   "language": "python",
   "name": "python3"
  },
  "language_info": {
   "codemirror_mode": {
    "name": "ipython",
    "version": 3
   },
   "file_extension": ".py",
   "mimetype": "text/x-python",
   "name": "python",
   "nbconvert_exporter": "python",
   "pygments_lexer": "ipython3",
   "version": "3.8.6rc1"
  }
 },
 "nbformat": 4,
 "nbformat_minor": 4
}
